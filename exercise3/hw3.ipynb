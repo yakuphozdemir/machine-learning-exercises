{
 "cells": [
  {
   "cell_type": "code",
   "execution_count": 4,
   "metadata": {},
   "outputs": [],
   "source": [
    "import numpy as np\n",
    "import pandas as pd\n",
    "import matplotlib.pyplot as plt\n",
    "import seaborn as sns"
   ]
  },
  {
   "cell_type": "code",
   "execution_count": 6,
   "metadata": {},
   "outputs": [],
   "source": [
    "from sklearn.datasets import make_classification"
   ]
  },
  {
   "cell_type": "code",
   "execution_count": 7,
   "metadata": {},
   "outputs": [],
   "source": [
    "x, y = make_classification(n_samples = 10000, n_features = 8, n_informative = 5,\n",
    "                           class_sep = 2, random_state = 42)"
   ]
  },
  {
   "cell_type": "code",
   "execution_count": 25,
   "metadata": {},
   "outputs": [
    {
     "name": "stdout",
     "output_type": "stream",
     "text": [
      "type of x    : <class 'numpy.ndarray'>\n",
      "size of x    : 80000\n",
      "shape of x   : (10000, 8) \n",
      "\n",
      "type of y    : <class 'numpy.ndarray'>\n",
      "size of y    : 10000\n",
      "shape of y   : (10000,)\n"
     ]
    }
   ],
   "source": [
    "print(\"type of x    :\", type(x))\n",
    "print(\"size of x    :\", x.size)\n",
    "print(\"shape of x   :\", x.shape, \"\\n\")\n",
    "print(\"type of y    :\", type(y))\n",
    "print(\"size of y    :\", y.size)\n",
    "print(\"shape of y   :\", y.shape)\n"
   ]
  },
  {
   "cell_type": "code",
   "execution_count": 43,
   "metadata": {},
   "outputs": [
    {
     "ename": "ValueError",
     "evalue": "operands could not be broadcast together with shapes (10000,8) (10000,) ",
     "output_type": "error",
     "traceback": [
      "\u001b[1;31m---------------------------------------------------------------------------\u001b[0m",
      "\u001b[1;31mValueError\u001b[0m                                Traceback (most recent call last)",
      "Cell \u001b[1;32mIn [43], line 1\u001b[0m\n\u001b[1;32m----> 1\u001b[0m df \u001b[39m=\u001b[39m pd\u001b[39m.\u001b[39mDataFrame(x\u001b[39m+\u001b[39my)\n\u001b[0;32m      2\u001b[0m df\n",
      "\u001b[1;31mValueError\u001b[0m: operands could not be broadcast together with shapes (10000,8) (10000,) "
     ]
    }
   ],
   "source": [
    "df = pd.DataFrame(x)\n",
    "df."
   ]
  },
  {
   "cell_type": "code",
   "execution_count": 41,
   "metadata": {},
   "outputs": [
    {
     "data": {
      "text/html": [
       "<div>\n",
       "<style scoped>\n",
       "    .dataframe tbody tr th:only-of-type {\n",
       "        vertical-align: middle;\n",
       "    }\n",
       "\n",
       "    .dataframe tbody tr th {\n",
       "        vertical-align: top;\n",
       "    }\n",
       "\n",
       "    .dataframe thead th {\n",
       "        text-align: right;\n",
       "    }\n",
       "</style>\n",
       "<table border=\"1\" class=\"dataframe\">\n",
       "  <thead>\n",
       "    <tr style=\"text-align: right;\">\n",
       "      <th></th>\n",
       "      <th>0</th>\n",
       "      <th>1</th>\n",
       "      <th>2</th>\n",
       "      <th>3</th>\n",
       "      <th>4</th>\n",
       "      <th>5</th>\n",
       "      <th>6</th>\n",
       "      <th>7</th>\n",
       "    </tr>\n",
       "  </thead>\n",
       "  <tbody>\n",
       "    <tr>\n",
       "      <th>0</th>\n",
       "      <td>-0.475055</td>\n",
       "      <td>1.455643</td>\n",
       "      <td>-1.571111</td>\n",
       "      <td>-2.233576</td>\n",
       "      <td>-2.272510</td>\n",
       "      <td>-0.478333</td>\n",
       "      <td>0.012107</td>\n",
       "      <td>-1.616344</td>\n",
       "    </tr>\n",
       "    <tr>\n",
       "      <th>1</th>\n",
       "      <td>1.578351</td>\n",
       "      <td>4.611229</td>\n",
       "      <td>-0.527495</td>\n",
       "      <td>-1.868875</td>\n",
       "      <td>2.921311</td>\n",
       "      <td>-1.783386</td>\n",
       "      <td>3.431662</td>\n",
       "      <td>-0.178611</td>\n",
       "    </tr>\n",
       "    <tr>\n",
       "      <th>0</th>\n",
       "      <td>-2.677604</td>\n",
       "      <td>0.619333</td>\n",
       "      <td>-0.260753</td>\n",
       "      <td>1.768409</td>\n",
       "      <td>1.511900</td>\n",
       "      <td>-1.552257</td>\n",
       "      <td>1.182059</td>\n",
       "      <td>1.810524</td>\n",
       "    </tr>\n",
       "    <tr>\n",
       "      <th>0</th>\n",
       "      <td>0.379412</td>\n",
       "      <td>0.879235</td>\n",
       "      <td>-0.787970</td>\n",
       "      <td>-0.457057</td>\n",
       "      <td>3.388700</td>\n",
       "      <td>1.787840</td>\n",
       "      <td>4.294263</td>\n",
       "      <td>0.427934</td>\n",
       "    </tr>\n",
       "    <tr>\n",
       "      <th>0</th>\n",
       "      <td>-3.645689</td>\n",
       "      <td>3.371521</td>\n",
       "      <td>-2.061152</td>\n",
       "      <td>-1.314058</td>\n",
       "      <td>-0.169329</td>\n",
       "      <td>-2.487230</td>\n",
       "      <td>2.144342</td>\n",
       "      <td>-0.733770</td>\n",
       "    </tr>\n",
       "    <tr>\n",
       "      <th>...</th>\n",
       "      <td>...</td>\n",
       "      <td>...</td>\n",
       "      <td>...</td>\n",
       "      <td>...</td>\n",
       "      <td>...</td>\n",
       "      <td>...</td>\n",
       "      <td>...</td>\n",
       "      <td>...</td>\n",
       "    </tr>\n",
       "    <tr>\n",
       "      <th>0</th>\n",
       "      <td>-2.399057</td>\n",
       "      <td>2.275687</td>\n",
       "      <td>-0.345061</td>\n",
       "      <td>0.629983</td>\n",
       "      <td>3.397411</td>\n",
       "      <td>-1.502344</td>\n",
       "      <td>3.098817</td>\n",
       "      <td>0.583324</td>\n",
       "    </tr>\n",
       "    <tr>\n",
       "      <th>0</th>\n",
       "      <td>-1.487918</td>\n",
       "      <td>2.273560</td>\n",
       "      <td>-1.152804</td>\n",
       "      <td>2.062795</td>\n",
       "      <td>-0.571202</td>\n",
       "      <td>-5.398310</td>\n",
       "      <td>-2.426969</td>\n",
       "      <td>2.455303</td>\n",
       "    </tr>\n",
       "    <tr>\n",
       "      <th>1</th>\n",
       "      <td>0.425978</td>\n",
       "      <td>4.298317</td>\n",
       "      <td>0.536100</td>\n",
       "      <td>-1.266725</td>\n",
       "      <td>1.370092</td>\n",
       "      <td>-3.187447</td>\n",
       "      <td>1.306534</td>\n",
       "      <td>-0.254036</td>\n",
       "    </tr>\n",
       "    <tr>\n",
       "      <th>1</th>\n",
       "      <td>-1.182084</td>\n",
       "      <td>0.628536</td>\n",
       "      <td>0.848320</td>\n",
       "      <td>4.571744</td>\n",
       "      <td>3.057226</td>\n",
       "      <td>-4.759462</td>\n",
       "      <td>-2.439117</td>\n",
       "      <td>3.182019</td>\n",
       "    </tr>\n",
       "    <tr>\n",
       "      <th>0</th>\n",
       "      <td>0.411147</td>\n",
       "      <td>-0.670132</td>\n",
       "      <td>-0.696646</td>\n",
       "      <td>3.194648</td>\n",
       "      <td>5.665534</td>\n",
       "      <td>0.768006</td>\n",
       "      <td>3.040554</td>\n",
       "      <td>3.290867</td>\n",
       "    </tr>\n",
       "  </tbody>\n",
       "</table>\n",
       "<p>10000 rows × 8 columns</p>\n",
       "</div>"
      ],
      "text/plain": [
       "           0         1         2         3         4         5         6  \\\n",
       "0  -0.475055  1.455643 -1.571111 -2.233576 -2.272510 -0.478333  0.012107   \n",
       "1   1.578351  4.611229 -0.527495 -1.868875  2.921311 -1.783386  3.431662   \n",
       "0  -2.677604  0.619333 -0.260753  1.768409  1.511900 -1.552257  1.182059   \n",
       "0   0.379412  0.879235 -0.787970 -0.457057  3.388700  1.787840  4.294263   \n",
       "0  -3.645689  3.371521 -2.061152 -1.314058 -0.169329 -2.487230  2.144342   \n",
       "..       ...       ...       ...       ...       ...       ...       ...   \n",
       "0  -2.399057  2.275687 -0.345061  0.629983  3.397411 -1.502344  3.098817   \n",
       "0  -1.487918  2.273560 -1.152804  2.062795 -0.571202 -5.398310 -2.426969   \n",
       "1   0.425978  4.298317  0.536100 -1.266725  1.370092 -3.187447  1.306534   \n",
       "1  -1.182084  0.628536  0.848320  4.571744  3.057226 -4.759462 -2.439117   \n",
       "0   0.411147 -0.670132 -0.696646  3.194648  5.665534  0.768006  3.040554   \n",
       "\n",
       "           7  \n",
       "0  -1.616344  \n",
       "1  -0.178611  \n",
       "0   1.810524  \n",
       "0   0.427934  \n",
       "0  -0.733770  \n",
       "..       ...  \n",
       "0   0.583324  \n",
       "0   2.455303  \n",
       "1  -0.254036  \n",
       "1   3.182019  \n",
       "0   3.290867  \n",
       "\n",
       "[10000 rows x 8 columns]"
      ]
     },
     "execution_count": 41,
     "metadata": {},
     "output_type": "execute_result"
    }
   ],
   "source": []
  },
  {
   "cell_type": "code",
   "execution_count": null,
   "metadata": {},
   "outputs": [],
   "source": []
  }
 ],
 "metadata": {
  "kernelspec": {
   "display_name": "Python 3.10.7 64-bit",
   "language": "python",
   "name": "python3"
  },
  "language_info": {
   "codemirror_mode": {
    "name": "ipython",
    "version": 3
   },
   "file_extension": ".py",
   "mimetype": "text/x-python",
   "name": "python",
   "nbconvert_exporter": "python",
   "pygments_lexer": "ipython3",
   "version": "3.10.7"
  },
  "orig_nbformat": 4,
  "vscode": {
   "interpreter": {
    "hash": "64780b7434bf401c241bd3e18e1f67333411c25a974d33483d5dcab927c426ac"
   }
  }
 },
 "nbformat": 4,
 "nbformat_minor": 2
}
