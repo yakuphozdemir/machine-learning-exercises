{
 "cells": [
  {
   "cell_type": "code",
   "execution_count": 2,
   "metadata": {},
   "outputs": [],
   "source": [
    "import numpy as np\n",
    "import pandas as pd\n",
    "import matplotlib.pyplot as plt\n",
    "import seaborn as sns"
   ]
  },
  {
   "cell_type": "code",
   "execution_count": 3,
   "metadata": {},
   "outputs": [],
   "source": [
    "from sklearn.datasets import make_classification"
   ]
  },
  {
   "cell_type": "code",
   "execution_count": 4,
   "metadata": {},
   "outputs": [],
   "source": [
    "x, y = make_classification(n_samples = 10000, n_features = 8, n_informative = 5,\n",
    "                           class_sep = 2, random_state = 42)"
   ]
  },
  {
   "cell_type": "code",
   "execution_count": 5,
   "metadata": {},
   "outputs": [
    {
     "name": "stdout",
     "output_type": "stream",
     "text": [
      "type of x    : <class 'numpy.ndarray'>\n",
      "size of x    : 80000\n",
      "shape of x   : (10000, 8) \n",
      "\n",
      "type of y    : <class 'numpy.ndarray'>\n",
      "size of y    : 10000\n",
      "shape of y   : (10000,)\n"
     ]
    }
   ],
   "source": [
    "print(\"type of x    :\", type(x))\n",
    "print(\"size of x    :\", x.size)\n",
    "print(\"shape of x   :\", x.shape, \"\\n\")\n",
    "print(\"type of y    :\", type(y))\n",
    "print(\"size of y    :\", y.size)\n",
    "print(\"shape of y   :\", y.shape)"
   ]
  },
  {
   "cell_type": "code",
   "execution_count": 6,
   "metadata": {},
   "outputs": [
    {
     "data": {
      "text/plain": [
       "array([0, 1, 0, ..., 1, 1, 0])"
      ]
     },
     "execution_count": 6,
     "metadata": {},
     "output_type": "execute_result"
    }
   ],
   "source": [
    "y"
   ]
  },
  {
   "cell_type": "code",
   "execution_count": 7,
   "metadata": {},
   "outputs": [],
   "source": [
    "df = pd.DataFrame(x)\n",
    "df_with_y = df.copy()\n",
    "df_with_y[\"y\"] = y"
   ]
  },
  {
   "cell_type": "code",
   "execution_count": 8,
   "metadata": {},
   "outputs": [
    {
     "data": {
      "text/plain": [
       "'df'"
      ]
     },
     "metadata": {},
     "output_type": "display_data"
    },
    {
     "data": {
      "text/html": [
       "<div>\n",
       "<style scoped>\n",
       "    .dataframe tbody tr th:only-of-type {\n",
       "        vertical-align: middle;\n",
       "    }\n",
       "\n",
       "    .dataframe tbody tr th {\n",
       "        vertical-align: top;\n",
       "    }\n",
       "\n",
       "    .dataframe thead th {\n",
       "        text-align: right;\n",
       "    }\n",
       "</style>\n",
       "<table border=\"1\" class=\"dataframe\">\n",
       "  <thead>\n",
       "    <tr style=\"text-align: right;\">\n",
       "      <th></th>\n",
       "      <th>0</th>\n",
       "      <th>1</th>\n",
       "      <th>2</th>\n",
       "      <th>3</th>\n",
       "      <th>4</th>\n",
       "      <th>5</th>\n",
       "      <th>6</th>\n",
       "      <th>7</th>\n",
       "    </tr>\n",
       "  </thead>\n",
       "  <tbody>\n",
       "    <tr>\n",
       "      <th>0</th>\n",
       "      <td>-0.475055</td>\n",
       "      <td>1.455643</td>\n",
       "      <td>-1.571111</td>\n",
       "      <td>-2.233576</td>\n",
       "      <td>-2.272510</td>\n",
       "      <td>-0.478333</td>\n",
       "      <td>0.012107</td>\n",
       "      <td>-1.616344</td>\n",
       "    </tr>\n",
       "    <tr>\n",
       "      <th>1</th>\n",
       "      <td>1.578351</td>\n",
       "      <td>4.611229</td>\n",
       "      <td>-0.527495</td>\n",
       "      <td>-1.868875</td>\n",
       "      <td>2.921311</td>\n",
       "      <td>-1.783386</td>\n",
       "      <td>3.431662</td>\n",
       "      <td>-0.178611</td>\n",
       "    </tr>\n",
       "    <tr>\n",
       "      <th>2</th>\n",
       "      <td>-2.677604</td>\n",
       "      <td>0.619333</td>\n",
       "      <td>-0.260753</td>\n",
       "      <td>1.768409</td>\n",
       "      <td>1.511900</td>\n",
       "      <td>-1.552257</td>\n",
       "      <td>1.182059</td>\n",
       "      <td>1.810524</td>\n",
       "    </tr>\n",
       "    <tr>\n",
       "      <th>3</th>\n",
       "      <td>0.379412</td>\n",
       "      <td>0.879235</td>\n",
       "      <td>-0.787970</td>\n",
       "      <td>-0.457057</td>\n",
       "      <td>3.388700</td>\n",
       "      <td>1.787840</td>\n",
       "      <td>4.294263</td>\n",
       "      <td>0.427934</td>\n",
       "    </tr>\n",
       "    <tr>\n",
       "      <th>4</th>\n",
       "      <td>-3.645689</td>\n",
       "      <td>3.371521</td>\n",
       "      <td>-2.061152</td>\n",
       "      <td>-1.314058</td>\n",
       "      <td>-0.169329</td>\n",
       "      <td>-2.487230</td>\n",
       "      <td>2.144342</td>\n",
       "      <td>-0.733770</td>\n",
       "    </tr>\n",
       "    <tr>\n",
       "      <th>...</th>\n",
       "      <td>...</td>\n",
       "      <td>...</td>\n",
       "      <td>...</td>\n",
       "      <td>...</td>\n",
       "      <td>...</td>\n",
       "      <td>...</td>\n",
       "      <td>...</td>\n",
       "      <td>...</td>\n",
       "    </tr>\n",
       "    <tr>\n",
       "      <th>9995</th>\n",
       "      <td>-2.399057</td>\n",
       "      <td>2.275687</td>\n",
       "      <td>-0.345061</td>\n",
       "      <td>0.629983</td>\n",
       "      <td>3.397411</td>\n",
       "      <td>-1.502344</td>\n",
       "      <td>3.098817</td>\n",
       "      <td>0.583324</td>\n",
       "    </tr>\n",
       "    <tr>\n",
       "      <th>9996</th>\n",
       "      <td>-1.487918</td>\n",
       "      <td>2.273560</td>\n",
       "      <td>-1.152804</td>\n",
       "      <td>2.062795</td>\n",
       "      <td>-0.571202</td>\n",
       "      <td>-5.398310</td>\n",
       "      <td>-2.426969</td>\n",
       "      <td>2.455303</td>\n",
       "    </tr>\n",
       "    <tr>\n",
       "      <th>9997</th>\n",
       "      <td>0.425978</td>\n",
       "      <td>4.298317</td>\n",
       "      <td>0.536100</td>\n",
       "      <td>-1.266725</td>\n",
       "      <td>1.370092</td>\n",
       "      <td>-3.187447</td>\n",
       "      <td>1.306534</td>\n",
       "      <td>-0.254036</td>\n",
       "    </tr>\n",
       "    <tr>\n",
       "      <th>9998</th>\n",
       "      <td>-1.182084</td>\n",
       "      <td>0.628536</td>\n",
       "      <td>0.848320</td>\n",
       "      <td>4.571744</td>\n",
       "      <td>3.057226</td>\n",
       "      <td>-4.759462</td>\n",
       "      <td>-2.439117</td>\n",
       "      <td>3.182019</td>\n",
       "    </tr>\n",
       "    <tr>\n",
       "      <th>9999</th>\n",
       "      <td>0.411147</td>\n",
       "      <td>-0.670132</td>\n",
       "      <td>-0.696646</td>\n",
       "      <td>3.194648</td>\n",
       "      <td>5.665534</td>\n",
       "      <td>0.768006</td>\n",
       "      <td>3.040554</td>\n",
       "      <td>3.290867</td>\n",
       "    </tr>\n",
       "  </tbody>\n",
       "</table>\n",
       "<p>10000 rows × 8 columns</p>\n",
       "</div>"
      ],
      "text/plain": [
       "             0         1         2         3         4         5         6  \\\n",
       "0    -0.475055  1.455643 -1.571111 -2.233576 -2.272510 -0.478333  0.012107   \n",
       "1     1.578351  4.611229 -0.527495 -1.868875  2.921311 -1.783386  3.431662   \n",
       "2    -2.677604  0.619333 -0.260753  1.768409  1.511900 -1.552257  1.182059   \n",
       "3     0.379412  0.879235 -0.787970 -0.457057  3.388700  1.787840  4.294263   \n",
       "4    -3.645689  3.371521 -2.061152 -1.314058 -0.169329 -2.487230  2.144342   \n",
       "...        ...       ...       ...       ...       ...       ...       ...   \n",
       "9995 -2.399057  2.275687 -0.345061  0.629983  3.397411 -1.502344  3.098817   \n",
       "9996 -1.487918  2.273560 -1.152804  2.062795 -0.571202 -5.398310 -2.426969   \n",
       "9997  0.425978  4.298317  0.536100 -1.266725  1.370092 -3.187447  1.306534   \n",
       "9998 -1.182084  0.628536  0.848320  4.571744  3.057226 -4.759462 -2.439117   \n",
       "9999  0.411147 -0.670132 -0.696646  3.194648  5.665534  0.768006  3.040554   \n",
       "\n",
       "             7  \n",
       "0    -1.616344  \n",
       "1    -0.178611  \n",
       "2     1.810524  \n",
       "3     0.427934  \n",
       "4    -0.733770  \n",
       "...        ...  \n",
       "9995  0.583324  \n",
       "9996  2.455303  \n",
       "9997 -0.254036  \n",
       "9998  3.182019  \n",
       "9999  3.290867  \n",
       "\n",
       "[10000 rows x 8 columns]"
      ]
     },
     "metadata": {},
     "output_type": "display_data"
    },
    {
     "data": {
      "text/plain": [
       "'df_with_y'"
      ]
     },
     "metadata": {},
     "output_type": "display_data"
    },
    {
     "data": {
      "text/html": [
       "<div>\n",
       "<style scoped>\n",
       "    .dataframe tbody tr th:only-of-type {\n",
       "        vertical-align: middle;\n",
       "    }\n",
       "\n",
       "    .dataframe tbody tr th {\n",
       "        vertical-align: top;\n",
       "    }\n",
       "\n",
       "    .dataframe thead th {\n",
       "        text-align: right;\n",
       "    }\n",
       "</style>\n",
       "<table border=\"1\" class=\"dataframe\">\n",
       "  <thead>\n",
       "    <tr style=\"text-align: right;\">\n",
       "      <th></th>\n",
       "      <th>0</th>\n",
       "      <th>1</th>\n",
       "      <th>2</th>\n",
       "      <th>3</th>\n",
       "      <th>4</th>\n",
       "      <th>5</th>\n",
       "      <th>6</th>\n",
       "      <th>7</th>\n",
       "      <th>y</th>\n",
       "    </tr>\n",
       "  </thead>\n",
       "  <tbody>\n",
       "    <tr>\n",
       "      <th>0</th>\n",
       "      <td>-0.475055</td>\n",
       "      <td>1.455643</td>\n",
       "      <td>-1.571111</td>\n",
       "      <td>-2.233576</td>\n",
       "      <td>-2.272510</td>\n",
       "      <td>-0.478333</td>\n",
       "      <td>0.012107</td>\n",
       "      <td>-1.616344</td>\n",
       "      <td>0</td>\n",
       "    </tr>\n",
       "    <tr>\n",
       "      <th>1</th>\n",
       "      <td>1.578351</td>\n",
       "      <td>4.611229</td>\n",
       "      <td>-0.527495</td>\n",
       "      <td>-1.868875</td>\n",
       "      <td>2.921311</td>\n",
       "      <td>-1.783386</td>\n",
       "      <td>3.431662</td>\n",
       "      <td>-0.178611</td>\n",
       "      <td>1</td>\n",
       "    </tr>\n",
       "    <tr>\n",
       "      <th>2</th>\n",
       "      <td>-2.677604</td>\n",
       "      <td>0.619333</td>\n",
       "      <td>-0.260753</td>\n",
       "      <td>1.768409</td>\n",
       "      <td>1.511900</td>\n",
       "      <td>-1.552257</td>\n",
       "      <td>1.182059</td>\n",
       "      <td>1.810524</td>\n",
       "      <td>0</td>\n",
       "    </tr>\n",
       "    <tr>\n",
       "      <th>3</th>\n",
       "      <td>0.379412</td>\n",
       "      <td>0.879235</td>\n",
       "      <td>-0.787970</td>\n",
       "      <td>-0.457057</td>\n",
       "      <td>3.388700</td>\n",
       "      <td>1.787840</td>\n",
       "      <td>4.294263</td>\n",
       "      <td>0.427934</td>\n",
       "      <td>0</td>\n",
       "    </tr>\n",
       "    <tr>\n",
       "      <th>4</th>\n",
       "      <td>-3.645689</td>\n",
       "      <td>3.371521</td>\n",
       "      <td>-2.061152</td>\n",
       "      <td>-1.314058</td>\n",
       "      <td>-0.169329</td>\n",
       "      <td>-2.487230</td>\n",
       "      <td>2.144342</td>\n",
       "      <td>-0.733770</td>\n",
       "      <td>0</td>\n",
       "    </tr>\n",
       "    <tr>\n",
       "      <th>...</th>\n",
       "      <td>...</td>\n",
       "      <td>...</td>\n",
       "      <td>...</td>\n",
       "      <td>...</td>\n",
       "      <td>...</td>\n",
       "      <td>...</td>\n",
       "      <td>...</td>\n",
       "      <td>...</td>\n",
       "      <td>...</td>\n",
       "    </tr>\n",
       "    <tr>\n",
       "      <th>9995</th>\n",
       "      <td>-2.399057</td>\n",
       "      <td>2.275687</td>\n",
       "      <td>-0.345061</td>\n",
       "      <td>0.629983</td>\n",
       "      <td>3.397411</td>\n",
       "      <td>-1.502344</td>\n",
       "      <td>3.098817</td>\n",
       "      <td>0.583324</td>\n",
       "      <td>0</td>\n",
       "    </tr>\n",
       "    <tr>\n",
       "      <th>9996</th>\n",
       "      <td>-1.487918</td>\n",
       "      <td>2.273560</td>\n",
       "      <td>-1.152804</td>\n",
       "      <td>2.062795</td>\n",
       "      <td>-0.571202</td>\n",
       "      <td>-5.398310</td>\n",
       "      <td>-2.426969</td>\n",
       "      <td>2.455303</td>\n",
       "      <td>0</td>\n",
       "    </tr>\n",
       "    <tr>\n",
       "      <th>9997</th>\n",
       "      <td>0.425978</td>\n",
       "      <td>4.298317</td>\n",
       "      <td>0.536100</td>\n",
       "      <td>-1.266725</td>\n",
       "      <td>1.370092</td>\n",
       "      <td>-3.187447</td>\n",
       "      <td>1.306534</td>\n",
       "      <td>-0.254036</td>\n",
       "      <td>1</td>\n",
       "    </tr>\n",
       "    <tr>\n",
       "      <th>9998</th>\n",
       "      <td>-1.182084</td>\n",
       "      <td>0.628536</td>\n",
       "      <td>0.848320</td>\n",
       "      <td>4.571744</td>\n",
       "      <td>3.057226</td>\n",
       "      <td>-4.759462</td>\n",
       "      <td>-2.439117</td>\n",
       "      <td>3.182019</td>\n",
       "      <td>1</td>\n",
       "    </tr>\n",
       "    <tr>\n",
       "      <th>9999</th>\n",
       "      <td>0.411147</td>\n",
       "      <td>-0.670132</td>\n",
       "      <td>-0.696646</td>\n",
       "      <td>3.194648</td>\n",
       "      <td>5.665534</td>\n",
       "      <td>0.768006</td>\n",
       "      <td>3.040554</td>\n",
       "      <td>3.290867</td>\n",
       "      <td>0</td>\n",
       "    </tr>\n",
       "  </tbody>\n",
       "</table>\n",
       "<p>10000 rows × 9 columns</p>\n",
       "</div>"
      ],
      "text/plain": [
       "             0         1         2         3         4         5         6  \\\n",
       "0    -0.475055  1.455643 -1.571111 -2.233576 -2.272510 -0.478333  0.012107   \n",
       "1     1.578351  4.611229 -0.527495 -1.868875  2.921311 -1.783386  3.431662   \n",
       "2    -2.677604  0.619333 -0.260753  1.768409  1.511900 -1.552257  1.182059   \n",
       "3     0.379412  0.879235 -0.787970 -0.457057  3.388700  1.787840  4.294263   \n",
       "4    -3.645689  3.371521 -2.061152 -1.314058 -0.169329 -2.487230  2.144342   \n",
       "...        ...       ...       ...       ...       ...       ...       ...   \n",
       "9995 -2.399057  2.275687 -0.345061  0.629983  3.397411 -1.502344  3.098817   \n",
       "9996 -1.487918  2.273560 -1.152804  2.062795 -0.571202 -5.398310 -2.426969   \n",
       "9997  0.425978  4.298317  0.536100 -1.266725  1.370092 -3.187447  1.306534   \n",
       "9998 -1.182084  0.628536  0.848320  4.571744  3.057226 -4.759462 -2.439117   \n",
       "9999  0.411147 -0.670132 -0.696646  3.194648  5.665534  0.768006  3.040554   \n",
       "\n",
       "             7  y  \n",
       "0    -1.616344  0  \n",
       "1    -0.178611  1  \n",
       "2     1.810524  0  \n",
       "3     0.427934  0  \n",
       "4    -0.733770  0  \n",
       "...        ... ..  \n",
       "9995  0.583324  0  \n",
       "9996  2.455303  0  \n",
       "9997 -0.254036  1  \n",
       "9998  3.182019  1  \n",
       "9999  3.290867  0  \n",
       "\n",
       "[10000 rows x 9 columns]"
      ]
     },
     "metadata": {},
     "output_type": "display_data"
    }
   ],
   "source": [
    "display(\"df\", df)\n",
    "display(\"df_with_y\", df_with_y)"
   ]
  },
  {
   "cell_type": "code",
   "execution_count": 9,
   "metadata": {},
   "outputs": [
    {
     "name": "stdout",
     "output_type": "stream",
     "text": [
      "duplicated rows count:  0 \n",
      "\n"
     ]
    },
    {
     "data": {
      "text/html": [
       "<div>\n",
       "<style scoped>\n",
       "    .dataframe tbody tr th:only-of-type {\n",
       "        vertical-align: middle;\n",
       "    }\n",
       "\n",
       "    .dataframe tbody tr th {\n",
       "        vertical-align: top;\n",
       "    }\n",
       "\n",
       "    .dataframe thead th {\n",
       "        text-align: right;\n",
       "    }\n",
       "</style>\n",
       "<table border=\"1\" class=\"dataframe\">\n",
       "  <thead>\n",
       "    <tr style=\"text-align: right;\">\n",
       "      <th></th>\n",
       "      <th>0</th>\n",
       "      <th>1</th>\n",
       "      <th>2</th>\n",
       "      <th>3</th>\n",
       "      <th>4</th>\n",
       "      <th>5</th>\n",
       "      <th>6</th>\n",
       "      <th>7</th>\n",
       "    </tr>\n",
       "  </thead>\n",
       "  <tbody>\n",
       "  </tbody>\n",
       "</table>\n",
       "</div>"
      ],
      "text/plain": [
       "Empty DataFrame\n",
       "Columns: [0, 1, 2, 3, 4, 5, 6, 7]\n",
       "Index: []"
      ]
     },
     "execution_count": 9,
     "metadata": {},
     "output_type": "execute_result"
    }
   ],
   "source": [
    "print(\"duplicated rows count: \", df.duplicated().sum(), \"\\n\")\n",
    "duplicated_rows = df[df.duplicated()]\n",
    "duplicated_rows"
   ]
  },
  {
   "cell_type": "code",
   "execution_count": 10,
   "metadata": {},
   "outputs": [
    {
     "data": {
      "text/plain": [
       "0    0\n",
       "1    0\n",
       "2    0\n",
       "3    0\n",
       "4    0\n",
       "5    0\n",
       "6    0\n",
       "7    0\n",
       "dtype: int64"
      ]
     },
     "execution_count": 10,
     "metadata": {},
     "output_type": "execute_result"
    }
   ],
   "source": [
    "df.isnull().sum()"
   ]
  },
  {
   "cell_type": "code",
   "execution_count": 11,
   "metadata": {},
   "outputs": [
    {
     "data": {
      "text/html": [
       "<div>\n",
       "<style scoped>\n",
       "    .dataframe tbody tr th:only-of-type {\n",
       "        vertical-align: middle;\n",
       "    }\n",
       "\n",
       "    .dataframe tbody tr th {\n",
       "        vertical-align: top;\n",
       "    }\n",
       "\n",
       "    .dataframe thead th {\n",
       "        text-align: right;\n",
       "    }\n",
       "</style>\n",
       "<table border=\"1\" class=\"dataframe\">\n",
       "  <thead>\n",
       "    <tr style=\"text-align: right;\">\n",
       "      <th></th>\n",
       "      <th>0</th>\n",
       "      <th>1</th>\n",
       "      <th>2</th>\n",
       "      <th>3</th>\n",
       "      <th>4</th>\n",
       "      <th>5</th>\n",
       "      <th>6</th>\n",
       "      <th>7</th>\n",
       "    </tr>\n",
       "  </thead>\n",
       "  <tbody>\n",
       "    <tr>\n",
       "      <th>0</th>\n",
       "      <td>NaN</td>\n",
       "      <td>NaN</td>\n",
       "      <td>NaN</td>\n",
       "      <td>NaN</td>\n",
       "      <td>NaN</td>\n",
       "      <td>NaN</td>\n",
       "      <td>NaN</td>\n",
       "      <td>NaN</td>\n",
       "    </tr>\n",
       "    <tr>\n",
       "      <th>1</th>\n",
       "      <td>NaN</td>\n",
       "      <td>NaN</td>\n",
       "      <td>NaN</td>\n",
       "      <td>NaN</td>\n",
       "      <td>NaN</td>\n",
       "      <td>NaN</td>\n",
       "      <td>NaN</td>\n",
       "      <td>NaN</td>\n",
       "    </tr>\n",
       "    <tr>\n",
       "      <th>2</th>\n",
       "      <td>NaN</td>\n",
       "      <td>NaN</td>\n",
       "      <td>NaN</td>\n",
       "      <td>NaN</td>\n",
       "      <td>NaN</td>\n",
       "      <td>NaN</td>\n",
       "      <td>NaN</td>\n",
       "      <td>NaN</td>\n",
       "    </tr>\n",
       "    <tr>\n",
       "      <th>3</th>\n",
       "      <td>NaN</td>\n",
       "      <td>NaN</td>\n",
       "      <td>NaN</td>\n",
       "      <td>NaN</td>\n",
       "      <td>NaN</td>\n",
       "      <td>NaN</td>\n",
       "      <td>NaN</td>\n",
       "      <td>NaN</td>\n",
       "    </tr>\n",
       "    <tr>\n",
       "      <th>4</th>\n",
       "      <td>NaN</td>\n",
       "      <td>NaN</td>\n",
       "      <td>NaN</td>\n",
       "      <td>NaN</td>\n",
       "      <td>NaN</td>\n",
       "      <td>NaN</td>\n",
       "      <td>NaN</td>\n",
       "      <td>NaN</td>\n",
       "    </tr>\n",
       "    <tr>\n",
       "      <th>...</th>\n",
       "      <td>...</td>\n",
       "      <td>...</td>\n",
       "      <td>...</td>\n",
       "      <td>...</td>\n",
       "      <td>...</td>\n",
       "      <td>...</td>\n",
       "      <td>...</td>\n",
       "      <td>...</td>\n",
       "    </tr>\n",
       "    <tr>\n",
       "      <th>9995</th>\n",
       "      <td>NaN</td>\n",
       "      <td>NaN</td>\n",
       "      <td>NaN</td>\n",
       "      <td>NaN</td>\n",
       "      <td>NaN</td>\n",
       "      <td>NaN</td>\n",
       "      <td>NaN</td>\n",
       "      <td>NaN</td>\n",
       "    </tr>\n",
       "    <tr>\n",
       "      <th>9996</th>\n",
       "      <td>NaN</td>\n",
       "      <td>NaN</td>\n",
       "      <td>NaN</td>\n",
       "      <td>NaN</td>\n",
       "      <td>NaN</td>\n",
       "      <td>NaN</td>\n",
       "      <td>NaN</td>\n",
       "      <td>NaN</td>\n",
       "    </tr>\n",
       "    <tr>\n",
       "      <th>9997</th>\n",
       "      <td>NaN</td>\n",
       "      <td>NaN</td>\n",
       "      <td>NaN</td>\n",
       "      <td>NaN</td>\n",
       "      <td>NaN</td>\n",
       "      <td>NaN</td>\n",
       "      <td>NaN</td>\n",
       "      <td>NaN</td>\n",
       "    </tr>\n",
       "    <tr>\n",
       "      <th>9998</th>\n",
       "      <td>NaN</td>\n",
       "      <td>NaN</td>\n",
       "      <td>NaN</td>\n",
       "      <td>NaN</td>\n",
       "      <td>NaN</td>\n",
       "      <td>NaN</td>\n",
       "      <td>NaN</td>\n",
       "      <td>NaN</td>\n",
       "    </tr>\n",
       "    <tr>\n",
       "      <th>9999</th>\n",
       "      <td>NaN</td>\n",
       "      <td>NaN</td>\n",
       "      <td>NaN</td>\n",
       "      <td>NaN</td>\n",
       "      <td>NaN</td>\n",
       "      <td>NaN</td>\n",
       "      <td>NaN</td>\n",
       "      <td>NaN</td>\n",
       "    </tr>\n",
       "  </tbody>\n",
       "</table>\n",
       "<p>10000 rows × 8 columns</p>\n",
       "</div>"
      ],
      "text/plain": [
       "       0   1   2   3   4   5   6   7\n",
       "0    NaN NaN NaN NaN NaN NaN NaN NaN\n",
       "1    NaN NaN NaN NaN NaN NaN NaN NaN\n",
       "2    NaN NaN NaN NaN NaN NaN NaN NaN\n",
       "3    NaN NaN NaN NaN NaN NaN NaN NaN\n",
       "4    NaN NaN NaN NaN NaN NaN NaN NaN\n",
       "...   ..  ..  ..  ..  ..  ..  ..  ..\n",
       "9995 NaN NaN NaN NaN NaN NaN NaN NaN\n",
       "9996 NaN NaN NaN NaN NaN NaN NaN NaN\n",
       "9997 NaN NaN NaN NaN NaN NaN NaN NaN\n",
       "9998 NaN NaN NaN NaN NaN NaN NaN NaN\n",
       "9999 NaN NaN NaN NaN NaN NaN NaN NaN\n",
       "\n",
       "[10000 rows x 8 columns]"
      ]
     },
     "execution_count": 11,
     "metadata": {},
     "output_type": "execute_result"
    }
   ],
   "source": [
    "null_rows = df[df.isnull()]\n",
    "null_rows"
   ]
  },
  {
   "cell_type": "code",
   "execution_count": 12,
   "metadata": {},
   "outputs": [
    {
     "data": {
      "text/plain": [
       "False"
      ]
     },
     "execution_count": 12,
     "metadata": {},
     "output_type": "execute_result"
    }
   ],
   "source": [
    "df.isnull().values.any()"
   ]
  },
  {
   "cell_type": "code",
   "execution_count": 13,
   "metadata": {},
   "outputs": [
    {
     "data": {
      "text/plain": [
       "'df.loc[len(df.index)] = [1,2,3,4,5,6,None,np.nan]\\ndf.tail(10)'"
      ]
     },
     "execution_count": 13,
     "metadata": {},
     "output_type": "execute_result"
    }
   ],
   "source": [
    "\"\"\"df.loc[len(df.index)] = [1,2,3,4,5,6,None,np.nan]\n",
    "df.tail(10)\"\"\""
   ]
  },
  {
   "cell_type": "code",
   "execution_count": 14,
   "metadata": {},
   "outputs": [
    {
     "data": {
      "text/plain": [
       "0    0\n",
       "1    0\n",
       "2    0\n",
       "3    0\n",
       "4    0\n",
       "5    0\n",
       "6    0\n",
       "7    0\n",
       "dtype: int64"
      ]
     },
     "execution_count": 14,
     "metadata": {},
     "output_type": "execute_result"
    }
   ],
   "source": [
    "df.isna().sum()"
   ]
  },
  {
   "cell_type": "code",
   "execution_count": 15,
   "metadata": {},
   "outputs": [
    {
     "data": {
      "text/plain": [
       "False"
      ]
     },
     "execution_count": 15,
     "metadata": {},
     "output_type": "execute_result"
    }
   ],
   "source": [
    "# ;)\n",
    "np.nan == np.nan"
   ]
  },
  {
   "cell_type": "code",
   "execution_count": 16,
   "metadata": {},
   "outputs": [
    {
     "ename": "StopIteration",
     "evalue": "",
     "output_type": "error",
     "traceback": [
      "\u001b[1;31m---------------------------------------------------------------------------\u001b[0m",
      "\u001b[1;31mStopIteration\u001b[0m                             Traceback (most recent call last)",
      "Cell \u001b[1;32mIn [16], line 1\u001b[0m\n\u001b[1;32m----> 1\u001b[0m sns\u001b[39m.\u001b[39mpairplot(df)  \u001b[39m# (df, hue=\"species\", diag_kind=\"hist\", kind=\"kde\",kind=\"hist\", , markers=[\"o\", \"s\", \"D\"])\u001b[39;00m\n\u001b[0;32m      2\u001b[0m plt\u001b[39m.\u001b[39mshow()\n",
      "File \u001b[1;32mc:\\Users\\yakup\\AppData\\Local\\Programs\\Python\\Python310\\lib\\site-packages\\seaborn\\axisgrid.py:2144\u001b[0m, in \u001b[0;36mpairplot\u001b[1;34m(data, hue, hue_order, palette, vars, x_vars, y_vars, kind, diag_kind, markers, height, aspect, corner, dropna, plot_kws, diag_kws, grid_kws, size)\u001b[0m\n\u001b[0;32m   2142\u001b[0m diag_kws\u001b[39m.\u001b[39msetdefault(\u001b[39m\"\u001b[39m\u001b[39mlegend\u001b[39m\u001b[39m\"\u001b[39m, \u001b[39mFalse\u001b[39;00m)\n\u001b[0;32m   2143\u001b[0m \u001b[39mif\u001b[39;00m diag_kind \u001b[39m==\u001b[39m \u001b[39m\"\u001b[39m\u001b[39mhist\u001b[39m\u001b[39m\"\u001b[39m:\n\u001b[1;32m-> 2144\u001b[0m     grid\u001b[39m.\u001b[39mmap_diag(histplot, \u001b[39m*\u001b[39m\u001b[39m*\u001b[39mdiag_kws)\n\u001b[0;32m   2145\u001b[0m \u001b[39melif\u001b[39;00m diag_kind \u001b[39m==\u001b[39m \u001b[39m\"\u001b[39m\u001b[39mkde\u001b[39m\u001b[39m\"\u001b[39m:\n\u001b[0;32m   2146\u001b[0m     diag_kws\u001b[39m.\u001b[39msetdefault(\u001b[39m\"\u001b[39m\u001b[39mfill\u001b[39m\u001b[39m\"\u001b[39m, \u001b[39mTrue\u001b[39;00m)\n",
      "File \u001b[1;32mc:\\Users\\yakup\\AppData\\Local\\Programs\\Python\\Python310\\lib\\site-packages\\seaborn\\axisgrid.py:1507\u001b[0m, in \u001b[0;36mPairGrid.map_diag\u001b[1;34m(self, func, **kwargs)\u001b[0m\n\u001b[0;32m   1505\u001b[0m     plot_kwargs\u001b[39m.\u001b[39msetdefault(\u001b[39m\"\u001b[39m\u001b[39mhue_order\u001b[39m\u001b[39m\"\u001b[39m, \u001b[39mself\u001b[39m\u001b[39m.\u001b[39m_hue_order)\n\u001b[0;32m   1506\u001b[0m     plot_kwargs\u001b[39m.\u001b[39msetdefault(\u001b[39m\"\u001b[39m\u001b[39mpalette\u001b[39m\u001b[39m\"\u001b[39m, \u001b[39mself\u001b[39m\u001b[39m.\u001b[39m_orig_palette)\n\u001b[1;32m-> 1507\u001b[0m     func(x\u001b[39m=\u001b[39mvector, \u001b[39m*\u001b[39m\u001b[39m*\u001b[39mplot_kwargs)\n\u001b[0;32m   1508\u001b[0m     ax\u001b[39m.\u001b[39mlegend_ \u001b[39m=\u001b[39m \u001b[39mNone\u001b[39;00m\n\u001b[0;32m   1510\u001b[0m \u001b[39mself\u001b[39m\u001b[39m.\u001b[39m_add_axis_labels()\n",
      "File \u001b[1;32mc:\\Users\\yakup\\AppData\\Local\\Programs\\Python\\Python310\\lib\\site-packages\\seaborn\\distributions.py:1418\u001b[0m, in \u001b[0;36mhistplot\u001b[1;34m(data, x, y, hue, weights, stat, bins, binwidth, binrange, discrete, cumulative, common_bins, common_norm, multiple, element, fill, shrink, kde, kde_kws, line_kws, thresh, pthresh, pmax, cbar, cbar_ax, cbar_kws, palette, hue_order, hue_norm, color, log_scale, legend, ax, **kwargs)\u001b[0m\n\u001b[0;32m   1416\u001b[0m     \u001b[39melse\u001b[39;00m:\n\u001b[0;32m   1417\u001b[0m         method \u001b[39m=\u001b[39m ax\u001b[39m.\u001b[39mplot\n\u001b[1;32m-> 1418\u001b[0m     color \u001b[39m=\u001b[39m _default_color(method, hue, color, kwargs)\n\u001b[0;32m   1420\u001b[0m \u001b[39mif\u001b[39;00m \u001b[39mnot\u001b[39;00m p\u001b[39m.\u001b[39mhas_xy_data:\n\u001b[0;32m   1421\u001b[0m     \u001b[39mreturn\u001b[39;00m ax\n",
      "File \u001b[1;32mc:\\Users\\yakup\\AppData\\Local\\Programs\\Python\\Python310\\lib\\site-packages\\seaborn\\utils.py:139\u001b[0m, in \u001b[0;36m_default_color\u001b[1;34m(method, hue, color, kws)\u001b[0m\n\u001b[0;32m    134\u001b[0m     scout\u001b[39m.\u001b[39mremove()\n\u001b[0;32m    136\u001b[0m \u001b[39melif\u001b[39;00m method\u001b[39m.\u001b[39m\u001b[39m__name__\u001b[39m \u001b[39m==\u001b[39m \u001b[39m\"\u001b[39m\u001b[39mbar\u001b[39m\u001b[39m\"\u001b[39m:\n\u001b[0;32m    137\u001b[0m \n\u001b[0;32m    138\u001b[0m     \u001b[39m# bar() needs masked, not empty data, to generate a patch\u001b[39;00m\n\u001b[1;32m--> 139\u001b[0m     scout, \u001b[39m=\u001b[39m method([np\u001b[39m.\u001b[39mnan], [np\u001b[39m.\u001b[39mnan], \u001b[39m*\u001b[39m\u001b[39m*\u001b[39mkws)\n\u001b[0;32m    140\u001b[0m     color \u001b[39m=\u001b[39m to_rgb(scout\u001b[39m.\u001b[39mget_facecolor())\n\u001b[0;32m    141\u001b[0m     scout\u001b[39m.\u001b[39mremove()\n",
      "File \u001b[1;32mc:\\Users\\yakup\\AppData\\Local\\Programs\\Python\\Python310\\lib\\site-packages\\matplotlib\\__init__.py:1423\u001b[0m, in \u001b[0;36m_preprocess_data.<locals>.inner\u001b[1;34m(ax, data, *args, **kwargs)\u001b[0m\n\u001b[0;32m   1420\u001b[0m \u001b[39m@functools\u001b[39m\u001b[39m.\u001b[39mwraps(func)\n\u001b[0;32m   1421\u001b[0m \u001b[39mdef\u001b[39;00m \u001b[39minner\u001b[39m(ax, \u001b[39m*\u001b[39margs, data\u001b[39m=\u001b[39m\u001b[39mNone\u001b[39;00m, \u001b[39m*\u001b[39m\u001b[39m*\u001b[39mkwargs):\n\u001b[0;32m   1422\u001b[0m     \u001b[39mif\u001b[39;00m data \u001b[39mis\u001b[39;00m \u001b[39mNone\u001b[39;00m:\n\u001b[1;32m-> 1423\u001b[0m         \u001b[39mreturn\u001b[39;00m func(ax, \u001b[39m*\u001b[39m\u001b[39mmap\u001b[39m(sanitize_sequence, args), \u001b[39m*\u001b[39m\u001b[39m*\u001b[39mkwargs)\n\u001b[0;32m   1425\u001b[0m     bound \u001b[39m=\u001b[39m new_sig\u001b[39m.\u001b[39mbind(ax, \u001b[39m*\u001b[39margs, \u001b[39m*\u001b[39m\u001b[39m*\u001b[39mkwargs)\n\u001b[0;32m   1426\u001b[0m     auto_label \u001b[39m=\u001b[39m (bound\u001b[39m.\u001b[39marguments\u001b[39m.\u001b[39mget(label_namer)\n\u001b[0;32m   1427\u001b[0m                   \u001b[39mor\u001b[39;00m bound\u001b[39m.\u001b[39mkwargs\u001b[39m.\u001b[39mget(label_namer))\n",
      "File \u001b[1;32mc:\\Users\\yakup\\AppData\\Local\\Programs\\Python\\Python310\\lib\\site-packages\\matplotlib\\axes\\_axes.py:2373\u001b[0m, in \u001b[0;36mAxes.bar\u001b[1;34m(self, x, height, width, bottom, align, **kwargs)\u001b[0m\n\u001b[0;32m   2371\u001b[0m x0 \u001b[39m=\u001b[39m x\n\u001b[0;32m   2372\u001b[0m x \u001b[39m=\u001b[39m np\u001b[39m.\u001b[39masarray(\u001b[39mself\u001b[39m\u001b[39m.\u001b[39mconvert_xunits(x))\n\u001b[1;32m-> 2373\u001b[0m width \u001b[39m=\u001b[39m \u001b[39mself\u001b[39;49m\u001b[39m.\u001b[39;49m_convert_dx(width, x0, x, \u001b[39mself\u001b[39;49m\u001b[39m.\u001b[39;49mconvert_xunits)\n\u001b[0;32m   2374\u001b[0m \u001b[39mif\u001b[39;00m xerr \u001b[39mis\u001b[39;00m \u001b[39mnot\u001b[39;00m \u001b[39mNone\u001b[39;00m:\n\u001b[0;32m   2375\u001b[0m     xerr \u001b[39m=\u001b[39m \u001b[39mself\u001b[39m\u001b[39m.\u001b[39m_convert_dx(xerr, x0, x, \u001b[39mself\u001b[39m\u001b[39m.\u001b[39mconvert_xunits)\n",
      "File \u001b[1;32mc:\\Users\\yakup\\AppData\\Local\\Programs\\Python\\Python310\\lib\\site-packages\\matplotlib\\axes\\_axes.py:2182\u001b[0m, in \u001b[0;36mAxes._convert_dx\u001b[1;34m(dx, x0, xconv, convert)\u001b[0m\n\u001b[0;32m   2170\u001b[0m \u001b[39mtry\u001b[39;00m:\n\u001b[0;32m   2171\u001b[0m     \u001b[39m# attempt to add the width to x0; this works for\u001b[39;00m\n\u001b[0;32m   2172\u001b[0m     \u001b[39m# datetime+timedelta, for instance\u001b[39;00m\n\u001b[1;32m   (...)\u001b[0m\n\u001b[0;32m   2179\u001b[0m     \u001b[39m# removes the units from unit packages like `pint` that\u001b[39;00m\n\u001b[0;32m   2180\u001b[0m     \u001b[39m# wrap numpy arrays.\u001b[39;00m\n\u001b[0;32m   2181\u001b[0m     \u001b[39mtry\u001b[39;00m:\n\u001b[1;32m-> 2182\u001b[0m         x0 \u001b[39m=\u001b[39m cbook\u001b[39m.\u001b[39;49m_safe_first_finite(x0)\n\u001b[0;32m   2183\u001b[0m     \u001b[39mexcept\u001b[39;00m (\u001b[39mTypeError\u001b[39;00m, \u001b[39mIndexError\u001b[39;00m, \u001b[39mKeyError\u001b[39;00m):\n\u001b[0;32m   2184\u001b[0m         \u001b[39mpass\u001b[39;00m\n",
      "File \u001b[1;32mc:\\Users\\yakup\\AppData\\Local\\Programs\\Python\\Python310\\lib\\site-packages\\matplotlib\\cbook\\__init__.py:1749\u001b[0m, in \u001b[0;36m_safe_first_finite\u001b[1;34m(obj, skip_nonfinite)\u001b[0m\n\u001b[0;32m   1746\u001b[0m     \u001b[39mraise\u001b[39;00m \u001b[39mRuntimeError\u001b[39;00m(\u001b[39m\"\u001b[39m\u001b[39mmatplotlib does not \u001b[39m\u001b[39m\"\u001b[39m\n\u001b[0;32m   1747\u001b[0m                        \u001b[39m\"\u001b[39m\u001b[39msupport generators as input\u001b[39m\u001b[39m\"\u001b[39m)\n\u001b[0;32m   1748\u001b[0m \u001b[39melse\u001b[39;00m:\n\u001b[1;32m-> 1749\u001b[0m     \u001b[39mreturn\u001b[39;00m \u001b[39mnext\u001b[39;49m(val \u001b[39mfor\u001b[39;49;00m val \u001b[39min\u001b[39;49;00m obj \u001b[39mif\u001b[39;49;00m safe_isfinite(val))\n",
      "\u001b[1;31mStopIteration\u001b[0m: "
     ]
    },
    {
     "data": {
      "image/png": "[encoded data removed]",
      "text/plain": [
       "<Figure size 2000x2000 with 72 Axes>"
      ]
     },
     "metadata": {},
     "output_type": "display_data"
    }
   ],
   "source": [
    "#sns.pairplot(df)  # (df, hue=\"species\", diag_kind=\"hist\", kind=\"kde\",kind=\"hist\", , markers=[\"o\", \"s\", \"D\"])\n",
    "#plt.show()\n",
    "#StopIteration Error"
   ]
  },
  {
   "cell_type": "code",
   "execution_count": 17,
   "metadata": {},
   "outputs": [
    {
     "name": "stderr",
     "output_type": "stream",
     "text": [
      "C:\\Users\\yakup\\AppData\\Local\\Temp\\ipykernel_6668\\3114537133.py:1: UserWarning: \n",
      "\n",
      "`distplot` is a deprecated function and will be removed in seaborn v0.14.0.\n",
      "\n",
      "Please adapt your code to use either `displot` (a figure-level function with\n",
      "similar flexibility) or `histplot` (an axes-level function for histograms).\n",
      "\n",
      "For a guide to updating your code to use the new functions, please see\n",
      "https://gist.github.com/mwaskom/de44147ed2974457ad6372750bbe5751\n",
      "\n",
      "  sns.distplot(df, kde=True, rug=False)\n"
     ]
    },
    {
     "data": {
      "text/plain": [
       "<AxesSubplot: ylabel='Density'>"
      ]
     },
     "execution_count": 17,
     "metadata": {},
     "output_type": "execute_result"
    },
    {
     "data": {
      "image/png": "[encoded data removed]",
      "text/plain": [
       "<Figure size 640x480 with 1 Axes>"
      ]
     },
     "metadata": {},
     "output_type": "display_data"
    }
   ],
   "source": [
    "sns.distplot(df, kde=True, rug=False)"
   ]
  },
  {
   "cell_type": "code",
   "execution_count": 18,
   "metadata": {},
   "outputs": [
    {
     "data": {
      "text/plain": [
       "<seaborn.axisgrid.FacetGrid at 0x294caba48e0>"
      ]
     },
     "execution_count": 18,
     "metadata": {},
     "output_type": "execute_result"
    },
    {
     "data": {
      "image/png": "[encoded data removed]",
      "text/plain": [
       "<Figure size 558.875x500 with 1 Axes>"
      ]
     },
     "metadata": {},
     "output_type": "display_data"
    }
   ],
   "source": [
    "sns.displot(df)"
   ]
  },
  {
   "cell_type": "code",
   "execution_count": 19,
   "metadata": {},
   "outputs": [
    {
     "data": {
      "text/plain": [
       "<seaborn.axisgrid.FacetGrid at 0x2948ef9b3d0>"
      ]
     },
     "execution_count": 19,
     "metadata": {},
     "output_type": "execute_result"
    },
    {
     "data": {
      "image/png": "[encoded data removed]",
      "text/plain": [
       "<Figure size 558.875x500 with 1 Axes>"
      ]
     },
     "metadata": {},
     "output_type": "display_data"
    }
   ],
   "source": [
    "sns.displot(df, kde=True, rug=False)"
   ]
  },
  {
   "cell_type": "code",
   "execution_count": 20,
   "metadata": {},
   "outputs": [
    {
     "ename": "StopIteration",
     "evalue": "",
     "output_type": "error",
     "traceback": [
      "\u001b[1;31m---------------------------------------------------------------------------\u001b[0m",
      "\u001b[1;31mStopIteration\u001b[0m                             Traceback (most recent call last)",
      "Cell \u001b[1;32mIn [20], line 1\u001b[0m\n\u001b[1;32m----> 1\u001b[0m sns\u001b[39m.\u001b[39mhistplot(df)\n",
      "File \u001b[1;32mc:\\Users\\yakup\\AppData\\Local\\Programs\\Python\\Python310\\lib\\site-packages\\seaborn\\distributions.py:1418\u001b[0m, in \u001b[0;36mhistplot\u001b[1;34m(data, x, y, hue, weights, stat, bins, binwidth, binrange, discrete, cumulative, common_bins, common_norm, multiple, element, fill, shrink, kde, kde_kws, line_kws, thresh, pthresh, pmax, cbar, cbar_ax, cbar_kws, palette, hue_order, hue_norm, color, log_scale, legend, ax, **kwargs)\u001b[0m\n\u001b[0;32m   1416\u001b[0m     \u001b[39melse\u001b[39;00m:\n\u001b[0;32m   1417\u001b[0m         method \u001b[39m=\u001b[39m ax\u001b[39m.\u001b[39mplot\n\u001b[1;32m-> 1418\u001b[0m     color \u001b[39m=\u001b[39m _default_color(method, hue, color, kwargs)\n\u001b[0;32m   1420\u001b[0m \u001b[39mif\u001b[39;00m \u001b[39mnot\u001b[39;00m p\u001b[39m.\u001b[39mhas_xy_data:\n\u001b[0;32m   1421\u001b[0m     \u001b[39mreturn\u001b[39;00m ax\n",
      "File \u001b[1;32mc:\\Users\\yakup\\AppData\\Local\\Programs\\Python\\Python310\\lib\\site-packages\\seaborn\\utils.py:139\u001b[0m, in \u001b[0;36m_default_color\u001b[1;34m(method, hue, color, kws)\u001b[0m\n\u001b[0;32m    134\u001b[0m     scout\u001b[39m.\u001b[39mremove()\n\u001b[0;32m    136\u001b[0m \u001b[39melif\u001b[39;00m method\u001b[39m.\u001b[39m\u001b[39m__name__\u001b[39m \u001b[39m==\u001b[39m \u001b[39m\"\u001b[39m\u001b[39mbar\u001b[39m\u001b[39m\"\u001b[39m:\n\u001b[0;32m    137\u001b[0m \n\u001b[0;32m    138\u001b[0m     \u001b[39m# bar() needs masked, not empty data, to generate a patch\u001b[39;00m\n\u001b[1;32m--> 139\u001b[0m     scout, \u001b[39m=\u001b[39m method([np\u001b[39m.\u001b[39mnan], [np\u001b[39m.\u001b[39mnan], \u001b[39m*\u001b[39m\u001b[39m*\u001b[39mkws)\n\u001b[0;32m    140\u001b[0m     color \u001b[39m=\u001b[39m to_rgb(scout\u001b[39m.\u001b[39mget_facecolor())\n\u001b[0;32m    141\u001b[0m     scout\u001b[39m.\u001b[39mremove()\n",
      "File \u001b[1;32mc:\\Users\\yakup\\AppData\\Local\\Programs\\Python\\Python310\\lib\\site-packages\\matplotlib\\__init__.py:1423\u001b[0m, in \u001b[0;36m_preprocess_data.<locals>.inner\u001b[1;34m(ax, data, *args, **kwargs)\u001b[0m\n\u001b[0;32m   1420\u001b[0m \u001b[39m@functools\u001b[39m\u001b[39m.\u001b[39mwraps(func)\n\u001b[0;32m   1421\u001b[0m \u001b[39mdef\u001b[39;00m \u001b[39minner\u001b[39m(ax, \u001b[39m*\u001b[39margs, data\u001b[39m=\u001b[39m\u001b[39mNone\u001b[39;00m, \u001b[39m*\u001b[39m\u001b[39m*\u001b[39mkwargs):\n\u001b[0;32m   1422\u001b[0m     \u001b[39mif\u001b[39;00m data \u001b[39mis\u001b[39;00m \u001b[39mNone\u001b[39;00m:\n\u001b[1;32m-> 1423\u001b[0m         \u001b[39mreturn\u001b[39;00m func(ax, \u001b[39m*\u001b[39m\u001b[39mmap\u001b[39m(sanitize_sequence, args), \u001b[39m*\u001b[39m\u001b[39m*\u001b[39mkwargs)\n\u001b[0;32m   1425\u001b[0m     bound \u001b[39m=\u001b[39m new_sig\u001b[39m.\u001b[39mbind(ax, \u001b[39m*\u001b[39margs, \u001b[39m*\u001b[39m\u001b[39m*\u001b[39mkwargs)\n\u001b[0;32m   1426\u001b[0m     auto_label \u001b[39m=\u001b[39m (bound\u001b[39m.\u001b[39marguments\u001b[39m.\u001b[39mget(label_namer)\n\u001b[0;32m   1427\u001b[0m                   \u001b[39mor\u001b[39;00m bound\u001b[39m.\u001b[39mkwargs\u001b[39m.\u001b[39mget(label_namer))\n",
      "File \u001b[1;32mc:\\Users\\yakup\\AppData\\Local\\Programs\\Python\\Python310\\lib\\site-packages\\matplotlib\\axes\\_axes.py:2373\u001b[0m, in \u001b[0;36mAxes.bar\u001b[1;34m(self, x, height, width, bottom, align, **kwargs)\u001b[0m\n\u001b[0;32m   2371\u001b[0m x0 \u001b[39m=\u001b[39m x\n\u001b[0;32m   2372\u001b[0m x \u001b[39m=\u001b[39m np\u001b[39m.\u001b[39masarray(\u001b[39mself\u001b[39m\u001b[39m.\u001b[39mconvert_xunits(x))\n\u001b[1;32m-> 2373\u001b[0m width \u001b[39m=\u001b[39m \u001b[39mself\u001b[39;49m\u001b[39m.\u001b[39;49m_convert_dx(width, x0, x, \u001b[39mself\u001b[39;49m\u001b[39m.\u001b[39;49mconvert_xunits)\n\u001b[0;32m   2374\u001b[0m \u001b[39mif\u001b[39;00m xerr \u001b[39mis\u001b[39;00m \u001b[39mnot\u001b[39;00m \u001b[39mNone\u001b[39;00m:\n\u001b[0;32m   2375\u001b[0m     xerr \u001b[39m=\u001b[39m \u001b[39mself\u001b[39m\u001b[39m.\u001b[39m_convert_dx(xerr, x0, x, \u001b[39mself\u001b[39m\u001b[39m.\u001b[39mconvert_xunits)\n",
      "File \u001b[1;32mc:\\Users\\yakup\\AppData\\Local\\Programs\\Python\\Python310\\lib\\site-packages\\matplotlib\\axes\\_axes.py:2182\u001b[0m, in \u001b[0;36mAxes._convert_dx\u001b[1;34m(dx, x0, xconv, convert)\u001b[0m\n\u001b[0;32m   2170\u001b[0m \u001b[39mtry\u001b[39;00m:\n\u001b[0;32m   2171\u001b[0m     \u001b[39m# attempt to add the width to x0; this works for\u001b[39;00m\n\u001b[0;32m   2172\u001b[0m     \u001b[39m# datetime+timedelta, for instance\u001b[39;00m\n\u001b[1;32m   (...)\u001b[0m\n\u001b[0;32m   2179\u001b[0m     \u001b[39m# removes the units from unit packages like `pint` that\u001b[39;00m\n\u001b[0;32m   2180\u001b[0m     \u001b[39m# wrap numpy arrays.\u001b[39;00m\n\u001b[0;32m   2181\u001b[0m     \u001b[39mtry\u001b[39;00m:\n\u001b[1;32m-> 2182\u001b[0m         x0 \u001b[39m=\u001b[39m cbook\u001b[39m.\u001b[39;49m_safe_first_finite(x0)\n\u001b[0;32m   2183\u001b[0m     \u001b[39mexcept\u001b[39;00m (\u001b[39mTypeError\u001b[39;00m, \u001b[39mIndexError\u001b[39;00m, \u001b[39mKeyError\u001b[39;00m):\n\u001b[0;32m   2184\u001b[0m         \u001b[39mpass\u001b[39;00m\n",
      "File \u001b[1;32mc:\\Users\\yakup\\AppData\\Local\\Programs\\Python\\Python310\\lib\\site-packages\\matplotlib\\cbook\\__init__.py:1749\u001b[0m, in \u001b[0;36m_safe_first_finite\u001b[1;34m(obj, skip_nonfinite)\u001b[0m\n\u001b[0;32m   1746\u001b[0m     \u001b[39mraise\u001b[39;00m \u001b[39mRuntimeError\u001b[39;00m(\u001b[39m\"\u001b[39m\u001b[39mmatplotlib does not \u001b[39m\u001b[39m\"\u001b[39m\n\u001b[0;32m   1747\u001b[0m                        \u001b[39m\"\u001b[39m\u001b[39msupport generators as input\u001b[39m\u001b[39m\"\u001b[39m)\n\u001b[0;32m   1748\u001b[0m \u001b[39melse\u001b[39;00m:\n\u001b[1;32m-> 1749\u001b[0m     \u001b[39mreturn\u001b[39;00m \u001b[39mnext\u001b[39;49m(val \u001b[39mfor\u001b[39;49;00m val \u001b[39min\u001b[39;49;00m obj \u001b[39mif\u001b[39;49;00m safe_isfinite(val))\n",
      "\u001b[1;31mStopIteration\u001b[0m: "
     ]
    },
    {
     "data": {
      "image/png": "[encoded data removed]",
      "text/plain": [
       "<Figure size 640x480 with 1 Axes>"
      ]
     },
     "metadata": {},
     "output_type": "display_data"
    }
   ],
   "source": [
    "#sns.histplot(df)\n",
    "# StopIteration Error"
   ]
  },
  {
   "cell_type": "code",
   "execution_count": 23,
   "metadata": {},
   "outputs": [
    {
     "data": {
      "text/html": [
       "<div>\n",
       "<style scoped>\n",
       "    .dataframe tbody tr th:only-of-type {\n",
       "        vertical-align: middle;\n",
       "    }\n",
       "\n",
       "    .dataframe tbody tr th {\n",
       "        vertical-align: top;\n",
       "    }\n",
       "\n",
       "    .dataframe thead th {\n",
       "        text-align: right;\n",
       "    }\n",
       "</style>\n",
       "<table border=\"1\" class=\"dataframe\">\n",
       "  <thead>\n",
       "    <tr style=\"text-align: right;\">\n",
       "      <th></th>\n",
       "      <th>0</th>\n",
       "      <th>1</th>\n",
       "      <th>2</th>\n",
       "      <th>3</th>\n",
       "      <th>4</th>\n",
       "      <th>5</th>\n",
       "      <th>6</th>\n",
       "      <th>7</th>\n",
       "    </tr>\n",
       "  </thead>\n",
       "  <tbody>\n",
       "    <tr>\n",
       "      <th>0</th>\n",
       "      <td>1.000000</td>\n",
       "      <td>0.235306</td>\n",
       "      <td>0.019813</td>\n",
       "      <td>-0.705908</td>\n",
       "      <td>0.310024</td>\n",
       "      <td>0.635628</td>\n",
       "      <td>0.545522</td>\n",
       "      <td>-0.636540</td>\n",
       "    </tr>\n",
       "    <tr>\n",
       "      <th>1</th>\n",
       "      <td>0.235306</td>\n",
       "      <td>1.000000</td>\n",
       "      <td>-0.001988</td>\n",
       "      <td>-0.618075</td>\n",
       "      <td>-0.180396</td>\n",
       "      <td>-0.347091</td>\n",
       "      <td>0.469165</td>\n",
       "      <td>-0.129568</td>\n",
       "    </tr>\n",
       "    <tr>\n",
       "      <th>2</th>\n",
       "      <td>0.019813</td>\n",
       "      <td>-0.001988</td>\n",
       "      <td>1.000000</td>\n",
       "      <td>-0.010795</td>\n",
       "      <td>0.027022</td>\n",
       "      <td>0.023192</td>\n",
       "      <td>0.020194</td>\n",
       "      <td>-0.018107</td>\n",
       "    </tr>\n",
       "    <tr>\n",
       "      <th>3</th>\n",
       "      <td>-0.705908</td>\n",
       "      <td>-0.618075</td>\n",
       "      <td>-0.010795</td>\n",
       "      <td>1.000000</td>\n",
       "      <td>0.086099</td>\n",
       "      <td>-0.439463</td>\n",
       "      <td>-0.672497</td>\n",
       "      <td>0.758458</td>\n",
       "    </tr>\n",
       "    <tr>\n",
       "      <th>4</th>\n",
       "      <td>0.310024</td>\n",
       "      <td>-0.180396</td>\n",
       "      <td>0.027022</td>\n",
       "      <td>0.086099</td>\n",
       "      <td>1.000000</td>\n",
       "      <td>0.461343</td>\n",
       "      <td>0.465025</td>\n",
       "      <td>-0.176576</td>\n",
       "    </tr>\n",
       "    <tr>\n",
       "      <th>5</th>\n",
       "      <td>0.635628</td>\n",
       "      <td>-0.347091</td>\n",
       "      <td>0.023192</td>\n",
       "      <td>-0.439463</td>\n",
       "      <td>0.461343</td>\n",
       "      <td>1.000000</td>\n",
       "      <td>0.547131</td>\n",
       "      <td>-0.647011</td>\n",
       "    </tr>\n",
       "    <tr>\n",
       "      <th>6</th>\n",
       "      <td>0.545522</td>\n",
       "      <td>0.469165</td>\n",
       "      <td>0.020194</td>\n",
       "      <td>-0.672497</td>\n",
       "      <td>0.465025</td>\n",
       "      <td>0.547131</td>\n",
       "      <td>1.000000</td>\n",
       "      <td>-0.388518</td>\n",
       "    </tr>\n",
       "    <tr>\n",
       "      <th>7</th>\n",
       "      <td>-0.636540</td>\n",
       "      <td>-0.129568</td>\n",
       "      <td>-0.018107</td>\n",
       "      <td>0.758458</td>\n",
       "      <td>-0.176576</td>\n",
       "      <td>-0.647011</td>\n",
       "      <td>-0.388518</td>\n",
       "      <td>1.000000</td>\n",
       "    </tr>\n",
       "  </tbody>\n",
       "</table>\n",
       "</div>"
      ],
      "text/plain": [
       "          0         1         2         3         4         5         6  \\\n",
       "0  1.000000  0.235306  0.019813 -0.705908  0.310024  0.635628  0.545522   \n",
       "1  0.235306  1.000000 -0.001988 -0.618075 -0.180396 -0.347091  0.469165   \n",
       "2  0.019813 -0.001988  1.000000 -0.010795  0.027022  0.023192  0.020194   \n",
       "3 -0.705908 -0.618075 -0.010795  1.000000  0.086099 -0.439463 -0.672497   \n",
       "4  0.310024 -0.180396  0.027022  0.086099  1.000000  0.461343  0.465025   \n",
       "5  0.635628 -0.347091  0.023192 -0.439463  0.461343  1.000000  0.547131   \n",
       "6  0.545522  0.469165  0.020194 -0.672497  0.465025  0.547131  1.000000   \n",
       "7 -0.636540 -0.129568 -0.018107  0.758458 -0.176576 -0.647011 -0.388518   \n",
       "\n",
       "          7  \n",
       "0 -0.636540  \n",
       "1 -0.129568  \n",
       "2 -0.018107  \n",
       "3  0.758458  \n",
       "4 -0.176576  \n",
       "5 -0.647011  \n",
       "6 -0.388518  \n",
       "7  1.000000  "
      ]
     },
     "execution_count": 23,
     "metadata": {},
     "output_type": "execute_result"
    }
   ],
   "source": [
    "df_corr = df.corr()\n",
    "df_corr"
   ]
  },
  {
   "cell_type": "code",
   "execution_count": 24,
   "metadata": {},
   "outputs": [
    {
     "data": {
      "text/plain": [
       "<AxesSubplot: >"
      ]
     },
     "execution_count": 24,
     "metadata": {},
     "output_type": "execute_result"
    },
    {
     "data": {
      "image/png": "[encoded data removed]",
      "text/plain": [
       "<Figure size 640x480 with 2 Axes>"
      ]
     },
     "metadata": {},
     "output_type": "display_data"
    }
   ],
   "source": [
    "sns.heatmap(df_corr)"
   ]
  },
  {
   "cell_type": "code",
   "execution_count": 25,
   "metadata": {},
   "outputs": [
    {
     "data": {
      "text/plain": [
       "<AxesSubplot: >"
      ]
     },
     "execution_count": 25,
     "metadata": {},
     "output_type": "execute_result"
    },
    {
     "data": {
      "image/png": "[encoded data removed]",
      "text/plain": [
       "<Figure size 800x800 with 2 Axes>"
      ]
     },
     "metadata": {},
     "output_type": "display_data"
    }
   ],
   "source": [
    "plt.figure(figsize=(8,8))\n",
    "sns.heatmap(\n",
    "    df_corr, \n",
    "    vmin=-1, vmax=1, center=0,\n",
    "    cmap=sns.diverging_palette(20, 220, n=200),\n",
    "    square=True, annot = True\n",
    ")"
   ]
  },
  {
   "cell_type": "code",
   "execution_count": 26,
   "metadata": {},
   "outputs": [
    {
     "data": {
      "text/plain": [
       "<matplotlib.image.AxesImage at 0x294cf602b00>"
      ]
     },
     "execution_count": 26,
     "metadata": {},
     "output_type": "execute_result"
    },
    {
     "data": {
      "image/png": "[encoded data removed]",
      "text/plain": [
       "<Figure size 480x480 with 1 Axes>"
      ]
     },
     "metadata": {},
     "output_type": "display_data"
    }
   ],
   "source": [
    "plt.matshow(df_corr)"
   ]
  },
  {
   "cell_type": "code",
   "execution_count": 27,
   "metadata": {},
   "outputs": [
    {
     "data": {
      "text/plain": [
       "'from sklearn.ensemble import IsolationForest\\nclf = IsolationForest(random_state = 42)\\nclf = clf.fit(df)\\nprint(type(clf))\\ndisplay(clf) #print(clf) same '"
      ]
     },
     "execution_count": 27,
     "metadata": {},
     "output_type": "execute_result"
    }
   ],
   "source": [
    "#IsolationForest\n",
    "\"\"\"from sklearn.ensemble import IsolationForest\n",
    "clf = IsolationForest(random_state = 42)\n",
    "clf = clf.fit(df)\n",
    "print(type(clf))\n",
    "display(clf) #print(clf) same \"\"\""
   ]
  },
  {
   "cell_type": "code",
   "execution_count": 28,
   "metadata": {},
   "outputs": [
    {
     "data": {
      "text/html": [
       "<div>\n",
       "<style scoped>\n",
       "    .dataframe tbody tr th:only-of-type {\n",
       "        vertical-align: middle;\n",
       "    }\n",
       "\n",
       "    .dataframe tbody tr th {\n",
       "        vertical-align: top;\n",
       "    }\n",
       "\n",
       "    .dataframe thead th {\n",
       "        text-align: right;\n",
       "    }\n",
       "</style>\n",
       "<table border=\"1\" class=\"dataframe\">\n",
       "  <thead>\n",
       "    <tr style=\"text-align: right;\">\n",
       "      <th></th>\n",
       "      <th>0</th>\n",
       "      <th>1</th>\n",
       "      <th>2</th>\n",
       "      <th>3</th>\n",
       "      <th>4</th>\n",
       "      <th>5</th>\n",
       "      <th>6</th>\n",
       "      <th>7</th>\n",
       "    </tr>\n",
       "  </thead>\n",
       "  <tbody>\n",
       "    <tr>\n",
       "      <th>0</th>\n",
       "      <td>-0.475055</td>\n",
       "      <td>1.455643</td>\n",
       "      <td>-1.571111</td>\n",
       "      <td>-2.233576</td>\n",
       "      <td>-2.272510</td>\n",
       "      <td>-0.478333</td>\n",
       "      <td>0.012107</td>\n",
       "      <td>-1.616344</td>\n",
       "    </tr>\n",
       "    <tr>\n",
       "      <th>1</th>\n",
       "      <td>1.578351</td>\n",
       "      <td>4.611229</td>\n",
       "      <td>-0.527495</td>\n",
       "      <td>-1.868875</td>\n",
       "      <td>2.921311</td>\n",
       "      <td>-1.783386</td>\n",
       "      <td>3.431662</td>\n",
       "      <td>-0.178611</td>\n",
       "    </tr>\n",
       "    <tr>\n",
       "      <th>2</th>\n",
       "      <td>-2.677604</td>\n",
       "      <td>0.619333</td>\n",
       "      <td>-0.260753</td>\n",
       "      <td>1.768409</td>\n",
       "      <td>1.511900</td>\n",
       "      <td>-1.552257</td>\n",
       "      <td>1.182059</td>\n",
       "      <td>1.810524</td>\n",
       "    </tr>\n",
       "    <tr>\n",
       "      <th>3</th>\n",
       "      <td>0.379412</td>\n",
       "      <td>0.879235</td>\n",
       "      <td>-0.787970</td>\n",
       "      <td>-0.457057</td>\n",
       "      <td>3.388700</td>\n",
       "      <td>1.787840</td>\n",
       "      <td>4.294263</td>\n",
       "      <td>0.427934</td>\n",
       "    </tr>\n",
       "    <tr>\n",
       "      <th>4</th>\n",
       "      <td>-3.645689</td>\n",
       "      <td>3.371521</td>\n",
       "      <td>-2.061152</td>\n",
       "      <td>-1.314058</td>\n",
       "      <td>-0.169329</td>\n",
       "      <td>-2.487230</td>\n",
       "      <td>2.144342</td>\n",
       "      <td>-0.733770</td>\n",
       "    </tr>\n",
       "    <tr>\n",
       "      <th>...</th>\n",
       "      <td>...</td>\n",
       "      <td>...</td>\n",
       "      <td>...</td>\n",
       "      <td>...</td>\n",
       "      <td>...</td>\n",
       "      <td>...</td>\n",
       "      <td>...</td>\n",
       "      <td>...</td>\n",
       "    </tr>\n",
       "    <tr>\n",
       "      <th>9995</th>\n",
       "      <td>-2.399057</td>\n",
       "      <td>2.275687</td>\n",
       "      <td>-0.345061</td>\n",
       "      <td>0.629983</td>\n",
       "      <td>3.397411</td>\n",
       "      <td>-1.502344</td>\n",
       "      <td>3.098817</td>\n",
       "      <td>0.583324</td>\n",
       "    </tr>\n",
       "    <tr>\n",
       "      <th>9996</th>\n",
       "      <td>-1.487918</td>\n",
       "      <td>2.273560</td>\n",
       "      <td>-1.152804</td>\n",
       "      <td>2.062795</td>\n",
       "      <td>-0.571202</td>\n",
       "      <td>-5.398310</td>\n",
       "      <td>-2.426969</td>\n",
       "      <td>2.455303</td>\n",
       "    </tr>\n",
       "    <tr>\n",
       "      <th>9997</th>\n",
       "      <td>0.425978</td>\n",
       "      <td>4.298317</td>\n",
       "      <td>0.536100</td>\n",
       "      <td>-1.266725</td>\n",
       "      <td>1.370092</td>\n",
       "      <td>-3.187447</td>\n",
       "      <td>1.306534</td>\n",
       "      <td>-0.254036</td>\n",
       "    </tr>\n",
       "    <tr>\n",
       "      <th>9998</th>\n",
       "      <td>-1.182084</td>\n",
       "      <td>0.628536</td>\n",
       "      <td>0.848320</td>\n",
       "      <td>4.571744</td>\n",
       "      <td>3.057226</td>\n",
       "      <td>-4.759462</td>\n",
       "      <td>-2.439117</td>\n",
       "      <td>3.182019</td>\n",
       "    </tr>\n",
       "    <tr>\n",
       "      <th>9999</th>\n",
       "      <td>0.411147</td>\n",
       "      <td>-0.670132</td>\n",
       "      <td>-0.696646</td>\n",
       "      <td>3.194648</td>\n",
       "      <td>5.665534</td>\n",
       "      <td>0.768006</td>\n",
       "      <td>3.040554</td>\n",
       "      <td>3.290867</td>\n",
       "    </tr>\n",
       "  </tbody>\n",
       "</table>\n",
       "<p>10000 rows × 8 columns</p>\n",
       "</div>"
      ],
      "text/plain": [
       "             0         1         2         3         4         5         6  \\\n",
       "0    -0.475055  1.455643 -1.571111 -2.233576 -2.272510 -0.478333  0.012107   \n",
       "1     1.578351  4.611229 -0.527495 -1.868875  2.921311 -1.783386  3.431662   \n",
       "2    -2.677604  0.619333 -0.260753  1.768409  1.511900 -1.552257  1.182059   \n",
       "3     0.379412  0.879235 -0.787970 -0.457057  3.388700  1.787840  4.294263   \n",
       "4    -3.645689  3.371521 -2.061152 -1.314058 -0.169329 -2.487230  2.144342   \n",
       "...        ...       ...       ...       ...       ...       ...       ...   \n",
       "9995 -2.399057  2.275687 -0.345061  0.629983  3.397411 -1.502344  3.098817   \n",
       "9996 -1.487918  2.273560 -1.152804  2.062795 -0.571202 -5.398310 -2.426969   \n",
       "9997  0.425978  4.298317  0.536100 -1.266725  1.370092 -3.187447  1.306534   \n",
       "9998 -1.182084  0.628536  0.848320  4.571744  3.057226 -4.759462 -2.439117   \n",
       "9999  0.411147 -0.670132 -0.696646  3.194648  5.665534  0.768006  3.040554   \n",
       "\n",
       "             7  \n",
       "0    -1.616344  \n",
       "1    -0.178611  \n",
       "2     1.810524  \n",
       "3     0.427934  \n",
       "4    -0.733770  \n",
       "...        ...  \n",
       "9995  0.583324  \n",
       "9996  2.455303  \n",
       "9997 -0.254036  \n",
       "9998  3.182019  \n",
       "9999  3.290867  \n",
       "\n",
       "[10000 rows x 8 columns]"
      ]
     },
     "execution_count": 28,
     "metadata": {},
     "output_type": "execute_result"
    }
   ],
   "source": [
    "df"
   ]
  },
  {
   "cell_type": "code",
   "execution_count": 29,
   "metadata": {},
   "outputs": [
    {
     "data": {
      "text/html": [
       "<div>\n",
       "<style scoped>\n",
       "    .dataframe tbody tr th:only-of-type {\n",
       "        vertical-align: middle;\n",
       "    }\n",
       "\n",
       "    .dataframe tbody tr th {\n",
       "        vertical-align: top;\n",
       "    }\n",
       "\n",
       "    .dataframe thead th {\n",
       "        text-align: right;\n",
       "    }\n",
       "</style>\n",
       "<table border=\"1\" class=\"dataframe\">\n",
       "  <thead>\n",
       "    <tr style=\"text-align: right;\">\n",
       "      <th></th>\n",
       "      <th>0</th>\n",
       "      <th>1</th>\n",
       "      <th>2</th>\n",
       "      <th>3</th>\n",
       "      <th>4</th>\n",
       "      <th>5</th>\n",
       "      <th>6</th>\n",
       "      <th>7</th>\n",
       "    </tr>\n",
       "  </thead>\n",
       "  <tbody>\n",
       "    <tr>\n",
       "      <th>0</th>\n",
       "      <td>0.249341</td>\n",
       "      <td>0.211556</td>\n",
       "      <td>-1.548486</td>\n",
       "      <td>-1.285581</td>\n",
       "      <td>-1.512145</td>\n",
       "      <td>0.537631</td>\n",
       "      <td>0.005663</td>\n",
       "      <td>-1.152207</td>\n",
       "    </tr>\n",
       "    <tr>\n",
       "      <th>1</th>\n",
       "      <td>1.215625</td>\n",
       "      <td>1.622655</td>\n",
       "      <td>-0.521872</td>\n",
       "      <td>-1.143740</td>\n",
       "      <td>0.890751</td>\n",
       "      <td>0.033149</td>\n",
       "      <td>1.403390</td>\n",
       "      <td>-0.517772</td>\n",
       "    </tr>\n",
       "    <tr>\n",
       "      <th>2</th>\n",
       "      <td>-0.787126</td>\n",
       "      <td>-0.162420</td>\n",
       "      <td>-0.259476</td>\n",
       "      <td>0.270893</td>\n",
       "      <td>0.238694</td>\n",
       "      <td>0.122494</td>\n",
       "      <td>0.483875</td>\n",
       "      <td>0.359983</td>\n",
       "    </tr>\n",
       "    <tr>\n",
       "      <th>3</th>\n",
       "      <td>0.651433</td>\n",
       "      <td>-0.046199</td>\n",
       "      <td>-0.778103</td>\n",
       "      <td>-0.594647</td>\n",
       "      <td>1.106987</td>\n",
       "      <td>1.413645</td>\n",
       "      <td>1.755974</td>\n",
       "      <td>-0.250119</td>\n",
       "    </tr>\n",
       "    <tr>\n",
       "      <th>4</th>\n",
       "      <td>-1.242684</td>\n",
       "      <td>1.068289</td>\n",
       "      <td>-2.030543</td>\n",
       "      <td>-0.927957</td>\n",
       "      <td>-0.539119</td>\n",
       "      <td>-0.238930</td>\n",
       "      <td>0.877204</td>\n",
       "      <td>-0.762749</td>\n",
       "    </tr>\n",
       "    <tr>\n",
       "      <th>...</th>\n",
       "      <td>...</td>\n",
       "      <td>...</td>\n",
       "      <td>...</td>\n",
       "      <td>...</td>\n",
       "      <td>...</td>\n",
       "      <td>...</td>\n",
       "      <td>...</td>\n",
       "      <td>...</td>\n",
       "    </tr>\n",
       "    <tr>\n",
       "      <th>9995</th>\n",
       "      <td>-0.656049</td>\n",
       "      <td>0.578259</td>\n",
       "      <td>-0.342410</td>\n",
       "      <td>-0.171870</td>\n",
       "      <td>1.111017</td>\n",
       "      <td>0.141788</td>\n",
       "      <td>1.267341</td>\n",
       "      <td>-0.181549</td>\n",
       "    </tr>\n",
       "    <tr>\n",
       "      <th>9996</th>\n",
       "      <td>-0.227288</td>\n",
       "      <td>0.577308</td>\n",
       "      <td>-1.136994</td>\n",
       "      <td>0.385388</td>\n",
       "      <td>-0.725043</td>\n",
       "      <td>-1.364240</td>\n",
       "      <td>-0.991298</td>\n",
       "      <td>0.644507</td>\n",
       "    </tr>\n",
       "    <tr>\n",
       "      <th>9997</th>\n",
       "      <td>0.673346</td>\n",
       "      <td>1.482728</td>\n",
       "      <td>0.524395</td>\n",
       "      <td>-0.909548</td>\n",
       "      <td>0.173087</td>\n",
       "      <td>-0.509607</td>\n",
       "      <td>0.534754</td>\n",
       "      <td>-0.551055</td>\n",
       "    </tr>\n",
       "    <tr>\n",
       "      <th>9998</th>\n",
       "      <td>-0.083370</td>\n",
       "      <td>-0.158305</td>\n",
       "      <td>0.831528</td>\n",
       "      <td>1.361182</td>\n",
       "      <td>0.953632</td>\n",
       "      <td>-1.117286</td>\n",
       "      <td>-0.996263</td>\n",
       "      <td>0.965189</td>\n",
       "    </tr>\n",
       "    <tr>\n",
       "      <th>9999</th>\n",
       "      <td>0.666367</td>\n",
       "      <td>-0.739037</td>\n",
       "      <td>-0.688267</td>\n",
       "      <td>0.825594</td>\n",
       "      <td>2.160353</td>\n",
       "      <td>1.019417</td>\n",
       "      <td>1.243526</td>\n",
       "      <td>1.013221</td>\n",
       "    </tr>\n",
       "  </tbody>\n",
       "</table>\n",
       "<p>10000 rows × 8 columns</p>\n",
       "</div>"
      ],
      "text/plain": [
       "             0         1         2         3         4         5         6  \\\n",
       "0     0.249341  0.211556 -1.548486 -1.285581 -1.512145  0.537631  0.005663   \n",
       "1     1.215625  1.622655 -0.521872 -1.143740  0.890751  0.033149  1.403390   \n",
       "2    -0.787126 -0.162420 -0.259476  0.270893  0.238694  0.122494  0.483875   \n",
       "3     0.651433 -0.046199 -0.778103 -0.594647  1.106987  1.413645  1.755974   \n",
       "4    -1.242684  1.068289 -2.030543 -0.927957 -0.539119 -0.238930  0.877204   \n",
       "...        ...       ...       ...       ...       ...       ...       ...   \n",
       "9995 -0.656049  0.578259 -0.342410 -0.171870  1.111017  0.141788  1.267341   \n",
       "9996 -0.227288  0.577308 -1.136994  0.385388 -0.725043 -1.364240 -0.991298   \n",
       "9997  0.673346  1.482728  0.524395 -0.909548  0.173087 -0.509607  0.534754   \n",
       "9998 -0.083370 -0.158305  0.831528  1.361182  0.953632 -1.117286 -0.996263   \n",
       "9999  0.666367 -0.739037 -0.688267  0.825594  2.160353  1.019417  1.243526   \n",
       "\n",
       "             7  \n",
       "0    -1.152207  \n",
       "1    -0.517772  \n",
       "2     0.359983  \n",
       "3    -0.250119  \n",
       "4    -0.762749  \n",
       "...        ...  \n",
       "9995 -0.181549  \n",
       "9996  0.644507  \n",
       "9997 -0.551055  \n",
       "9998  0.965189  \n",
       "9999  1.013221  \n",
       "\n",
       "[10000 rows x 8 columns]"
      ]
     },
     "execution_count": 29,
     "metadata": {},
     "output_type": "execute_result"
    }
   ],
   "source": [
    "#Z-Score\n",
    "from scipy import stats\n",
    "stats.zscore(df)"
   ]
  },
  {
   "cell_type": "code",
   "execution_count": 30,
   "metadata": {},
   "outputs": [
    {
     "name": "stdout",
     "output_type": "stream",
     "text": [
      "type of z:    <class 'pandas.core.frame.DataFrame'>\n"
     ]
    },
    {
     "data": {
      "text/html": [
       "<div>\n",
       "<style scoped>\n",
       "    .dataframe tbody tr th:only-of-type {\n",
       "        vertical-align: middle;\n",
       "    }\n",
       "\n",
       "    .dataframe tbody tr th {\n",
       "        vertical-align: top;\n",
       "    }\n",
       "\n",
       "    .dataframe thead th {\n",
       "        text-align: right;\n",
       "    }\n",
       "</style>\n",
       "<table border=\"1\" class=\"dataframe\">\n",
       "  <thead>\n",
       "    <tr style=\"text-align: right;\">\n",
       "      <th></th>\n",
       "      <th>0</th>\n",
       "      <th>1</th>\n",
       "      <th>2</th>\n",
       "      <th>3</th>\n",
       "      <th>4</th>\n",
       "      <th>5</th>\n",
       "      <th>6</th>\n",
       "      <th>7</th>\n",
       "    </tr>\n",
       "  </thead>\n",
       "  <tbody>\n",
       "    <tr>\n",
       "      <th>0</th>\n",
       "      <td>0.249341</td>\n",
       "      <td>0.211556</td>\n",
       "      <td>1.548486</td>\n",
       "      <td>1.285581</td>\n",
       "      <td>1.512145</td>\n",
       "      <td>0.537631</td>\n",
       "      <td>0.005663</td>\n",
       "      <td>1.152207</td>\n",
       "    </tr>\n",
       "    <tr>\n",
       "      <th>1</th>\n",
       "      <td>1.215625</td>\n",
       "      <td>1.622655</td>\n",
       "      <td>0.521872</td>\n",
       "      <td>1.143740</td>\n",
       "      <td>0.890751</td>\n",
       "      <td>0.033149</td>\n",
       "      <td>1.403390</td>\n",
       "      <td>0.517772</td>\n",
       "    </tr>\n",
       "    <tr>\n",
       "      <th>2</th>\n",
       "      <td>0.787126</td>\n",
       "      <td>0.162420</td>\n",
       "      <td>0.259476</td>\n",
       "      <td>0.270893</td>\n",
       "      <td>0.238694</td>\n",
       "      <td>0.122494</td>\n",
       "      <td>0.483875</td>\n",
       "      <td>0.359983</td>\n",
       "    </tr>\n",
       "    <tr>\n",
       "      <th>3</th>\n",
       "      <td>0.651433</td>\n",
       "      <td>0.046199</td>\n",
       "      <td>0.778103</td>\n",
       "      <td>0.594647</td>\n",
       "      <td>1.106987</td>\n",
       "      <td>1.413645</td>\n",
       "      <td>1.755974</td>\n",
       "      <td>0.250119</td>\n",
       "    </tr>\n",
       "    <tr>\n",
       "      <th>4</th>\n",
       "      <td>1.242684</td>\n",
       "      <td>1.068289</td>\n",
       "      <td>2.030543</td>\n",
       "      <td>0.927957</td>\n",
       "      <td>0.539119</td>\n",
       "      <td>0.238930</td>\n",
       "      <td>0.877204</td>\n",
       "      <td>0.762749</td>\n",
       "    </tr>\n",
       "    <tr>\n",
       "      <th>...</th>\n",
       "      <td>...</td>\n",
       "      <td>...</td>\n",
       "      <td>...</td>\n",
       "      <td>...</td>\n",
       "      <td>...</td>\n",
       "      <td>...</td>\n",
       "      <td>...</td>\n",
       "      <td>...</td>\n",
       "    </tr>\n",
       "    <tr>\n",
       "      <th>9995</th>\n",
       "      <td>0.656049</td>\n",
       "      <td>0.578259</td>\n",
       "      <td>0.342410</td>\n",
       "      <td>0.171870</td>\n",
       "      <td>1.111017</td>\n",
       "      <td>0.141788</td>\n",
       "      <td>1.267341</td>\n",
       "      <td>0.181549</td>\n",
       "    </tr>\n",
       "    <tr>\n",
       "      <th>9996</th>\n",
       "      <td>0.227288</td>\n",
       "      <td>0.577308</td>\n",
       "      <td>1.136994</td>\n",
       "      <td>0.385388</td>\n",
       "      <td>0.725043</td>\n",
       "      <td>1.364240</td>\n",
       "      <td>0.991298</td>\n",
       "      <td>0.644507</td>\n",
       "    </tr>\n",
       "    <tr>\n",
       "      <th>9997</th>\n",
       "      <td>0.673346</td>\n",
       "      <td>1.482728</td>\n",
       "      <td>0.524395</td>\n",
       "      <td>0.909548</td>\n",
       "      <td>0.173087</td>\n",
       "      <td>0.509607</td>\n",
       "      <td>0.534754</td>\n",
       "      <td>0.551055</td>\n",
       "    </tr>\n",
       "    <tr>\n",
       "      <th>9998</th>\n",
       "      <td>0.083370</td>\n",
       "      <td>0.158305</td>\n",
       "      <td>0.831528</td>\n",
       "      <td>1.361182</td>\n",
       "      <td>0.953632</td>\n",
       "      <td>1.117286</td>\n",
       "      <td>0.996263</td>\n",
       "      <td>0.965189</td>\n",
       "    </tr>\n",
       "    <tr>\n",
       "      <th>9999</th>\n",
       "      <td>0.666367</td>\n",
       "      <td>0.739037</td>\n",
       "      <td>0.688267</td>\n",
       "      <td>0.825594</td>\n",
       "      <td>2.160353</td>\n",
       "      <td>1.019417</td>\n",
       "      <td>1.243526</td>\n",
       "      <td>1.013221</td>\n",
       "    </tr>\n",
       "  </tbody>\n",
       "</table>\n",
       "<p>10000 rows × 8 columns</p>\n",
       "</div>"
      ],
      "text/plain": [
       "             0         1         2         3         4         5         6  \\\n",
       "0     0.249341  0.211556  1.548486  1.285581  1.512145  0.537631  0.005663   \n",
       "1     1.215625  1.622655  0.521872  1.143740  0.890751  0.033149  1.403390   \n",
       "2     0.787126  0.162420  0.259476  0.270893  0.238694  0.122494  0.483875   \n",
       "3     0.651433  0.046199  0.778103  0.594647  1.106987  1.413645  1.755974   \n",
       "4     1.242684  1.068289  2.030543  0.927957  0.539119  0.238930  0.877204   \n",
       "...        ...       ...       ...       ...       ...       ...       ...   \n",
       "9995  0.656049  0.578259  0.342410  0.171870  1.111017  0.141788  1.267341   \n",
       "9996  0.227288  0.577308  1.136994  0.385388  0.725043  1.364240  0.991298   \n",
       "9997  0.673346  1.482728  0.524395  0.909548  0.173087  0.509607  0.534754   \n",
       "9998  0.083370  0.158305  0.831528  1.361182  0.953632  1.117286  0.996263   \n",
       "9999  0.666367  0.739037  0.688267  0.825594  2.160353  1.019417  1.243526   \n",
       "\n",
       "             7  \n",
       "0     1.152207  \n",
       "1     0.517772  \n",
       "2     0.359983  \n",
       "3     0.250119  \n",
       "4     0.762749  \n",
       "...        ...  \n",
       "9995  0.181549  \n",
       "9996  0.644507  \n",
       "9997  0.551055  \n",
       "9998  0.965189  \n",
       "9999  1.013221  \n",
       "\n",
       "[10000 rows x 8 columns]"
      ]
     },
     "execution_count": 30,
     "metadata": {},
     "output_type": "execute_result"
    }
   ],
   "source": [
    "z = np.abs(stats.zscore(df))\n",
    "print(\"type of z:   \", type(z))\n",
    "z"
   ]
  },
  {
   "cell_type": "code",
   "execution_count": 31,
   "metadata": {},
   "outputs": [
    {
     "name": "stdout",
     "output_type": "stream",
     "text": [
      "2\n",
      "59\n",
      "59\n"
     ]
    }
   ],
   "source": [
    "print(len(np.where(z > 3)))\n",
    "print(len(np.where(z > 3)[0]))\n",
    "print(len(np.where(z > 3)[1]))"
   ]
  },
  {
   "cell_type": "code",
   "execution_count": 32,
   "metadata": {},
   "outputs": [
    {
     "ename": "IndexError",
     "evalue": "tuple index out of range",
     "output_type": "error",
     "traceback": [
      "\u001b[1;31m---------------------------------------------------------------------------\u001b[0m",
      "\u001b[1;31mIndexError\u001b[0m                                Traceback (most recent call last)",
      "Cell \u001b[1;32mIn [32], line 1\u001b[0m\n\u001b[1;32m----> 1\u001b[0m \u001b[39mprint\u001b[39m(\u001b[39mlen\u001b[39m(np\u001b[39m.\u001b[39mwhere(z \u001b[39m>\u001b[39m \u001b[39m3\u001b[39m)[\u001b[39m2\u001b[39m]))\n",
      "\u001b[1;31mIndexError\u001b[0m: tuple index out of range"
     ]
    }
   ],
   "source": [
    "#print(len(np.where(z > 3)[2]))\n",
    "# out   ->    IndexError: tuple index out of range"
   ]
  },
  {
   "cell_type": "code",
   "execution_count": 33,
   "metadata": {},
   "outputs": [
    {
     "data": {
      "text/plain": [
       "{160,\n",
       " 588,\n",
       " 627,\n",
       " 725,\n",
       " 745,\n",
       " 953,\n",
       " 973,\n",
       " 1097,\n",
       " 1214,\n",
       " 1242,\n",
       " 1552,\n",
       " 1792,\n",
       " 1969,\n",
       " 1998,\n",
       " 2034,\n",
       " 2124,\n",
       " 2281,\n",
       " 2367,\n",
       " 2656,\n",
       " 2673,\n",
       " 2676,\n",
       " 2720,\n",
       " 2807,\n",
       " 2823,\n",
       " 2895,\n",
       " 3021,\n",
       " 3244,\n",
       " 3915,\n",
       " 3938,\n",
       " 4056,\n",
       " 4062,\n",
       " 4343,\n",
       " 4417,\n",
       " 4449,\n",
       " 4853,\n",
       " 5013,\n",
       " 5048,\n",
       " 5075,\n",
       " 5451,\n",
       " 5541,\n",
       " 5639,\n",
       " 5806,\n",
       " 6106,\n",
       " 6696,\n",
       " 7232,\n",
       " 7277,\n",
       " 7698,\n",
       " 8052,\n",
       " 8165,\n",
       " 8179,\n",
       " 8337,\n",
       " 8360,\n",
       " 8579,\n",
       " 8793,\n",
       " 9021,\n",
       " 9091,\n",
       " 9634,\n",
       " 9794}"
      ]
     },
     "execution_count": 33,
     "metadata": {},
     "output_type": "execute_result"
    }
   ],
   "source": [
    "set(np.where(z > 3)[0])"
   ]
  },
  {
   "cell_type": "code",
   "execution_count": 34,
   "metadata": {},
   "outputs": [
    {
     "name": "stdout",
     "output_type": "stream",
     "text": [
      "{1792, 8579, 9091, 2823, 5639, 1552, 8337, 7698, 5013, 160, 2720, 9634, 5541, 6696, 8360, 3244, 5806, 1969, 5048, 953, 9021, 1214, 2367, 7232, 4417, 9794, 1097, 3915, 588, 973, 1998, 2124, 2895, 3021, 5451, 5075, 725, 4056, 8793, 1242, 4343, 6106, 4062, 2656, 4449, 3938, 8165, 745, 2281, 7277, 2673, 2034, 627, 2676, 4853, 8052, 2807, 8179}\n"
     ]
    },
    {
     "data": {
      "text/plain": [
       "[1792,\n",
       " 8579,\n",
       " 9091,\n",
       " 2823,\n",
       " 5639,\n",
       " 1552,\n",
       " 8337,\n",
       " 7698,\n",
       " 5013,\n",
       " 160,\n",
       " 2720,\n",
       " 9634,\n",
       " 5541,\n",
       " 6696,\n",
       " 8360,\n",
       " 3244,\n",
       " 5806,\n",
       " 1969,\n",
       " 5048,\n",
       " 953,\n",
       " 9021,\n",
       " 1214,\n",
       " 2367,\n",
       " 7232,\n",
       " 4417,\n",
       " 9794,\n",
       " 1097,\n",
       " 3915,\n",
       " 588,\n",
       " 973,\n",
       " 1998,\n",
       " 2124,\n",
       " 2895,\n",
       " 3021,\n",
       " 5451,\n",
       " 5075,\n",
       " 725,\n",
       " 4056,\n",
       " 8793,\n",
       " 1242,\n",
       " 4343,\n",
       " 6106,\n",
       " 4062,\n",
       " 2656,\n",
       " 4449,\n",
       " 3938,\n",
       " 8165,\n",
       " 745,\n",
       " 2281,\n",
       " 7277,\n",
       " 2673,\n",
       " 2034,\n",
       " 627,\n",
       " 2676,\n",
       " 4853,\n",
       " 8052,\n",
       " 2807,\n",
       " 8179]"
      ]
     },
     "execution_count": 34,
     "metadata": {},
     "output_type": "execute_result"
    }
   ],
   "source": [
    "print(set(np.where(z > 3)[0]))\n",
    "outliers = list(set(np.where(z > 3)[0]))\n",
    "outliers"
   ]
  },
  {
   "cell_type": "code",
   "execution_count": 35,
   "metadata": {},
   "outputs": [
    {
     "data": {
      "text/html": [
       "<div>\n",
       "<style scoped>\n",
       "    .dataframe tbody tr th:only-of-type {\n",
       "        vertical-align: middle;\n",
       "    }\n",
       "\n",
       "    .dataframe tbody tr th {\n",
       "        vertical-align: top;\n",
       "    }\n",
       "\n",
       "    .dataframe thead th {\n",
       "        text-align: right;\n",
       "    }\n",
       "</style>\n",
       "<table border=\"1\" class=\"dataframe\">\n",
       "  <thead>\n",
       "    <tr style=\"text-align: right;\">\n",
       "      <th></th>\n",
       "      <th>0</th>\n",
       "      <th>1</th>\n",
       "      <th>2</th>\n",
       "      <th>3</th>\n",
       "      <th>4</th>\n",
       "      <th>5</th>\n",
       "      <th>6</th>\n",
       "      <th>7</th>\n",
       "    </tr>\n",
       "  </thead>\n",
       "  <tbody>\n",
       "    <tr>\n",
       "      <th>0</th>\n",
       "      <td>-0.475055</td>\n",
       "      <td>1.455643</td>\n",
       "      <td>-1.571111</td>\n",
       "      <td>-2.233576</td>\n",
       "      <td>-2.272510</td>\n",
       "      <td>-0.478333</td>\n",
       "      <td>0.012107</td>\n",
       "      <td>-1.616344</td>\n",
       "    </tr>\n",
       "    <tr>\n",
       "      <th>1</th>\n",
       "      <td>1.578351</td>\n",
       "      <td>4.611229</td>\n",
       "      <td>-0.527495</td>\n",
       "      <td>-1.868875</td>\n",
       "      <td>2.921311</td>\n",
       "      <td>-1.783386</td>\n",
       "      <td>3.431662</td>\n",
       "      <td>-0.178611</td>\n",
       "    </tr>\n",
       "    <tr>\n",
       "      <th>2</th>\n",
       "      <td>-2.677604</td>\n",
       "      <td>0.619333</td>\n",
       "      <td>-0.260753</td>\n",
       "      <td>1.768409</td>\n",
       "      <td>1.511900</td>\n",
       "      <td>-1.552257</td>\n",
       "      <td>1.182059</td>\n",
       "      <td>1.810524</td>\n",
       "    </tr>\n",
       "    <tr>\n",
       "      <th>3</th>\n",
       "      <td>0.379412</td>\n",
       "      <td>0.879235</td>\n",
       "      <td>-0.787970</td>\n",
       "      <td>-0.457057</td>\n",
       "      <td>3.388700</td>\n",
       "      <td>1.787840</td>\n",
       "      <td>4.294263</td>\n",
       "      <td>0.427934</td>\n",
       "    </tr>\n",
       "    <tr>\n",
       "      <th>4</th>\n",
       "      <td>-3.645689</td>\n",
       "      <td>3.371521</td>\n",
       "      <td>-2.061152</td>\n",
       "      <td>-1.314058</td>\n",
       "      <td>-0.169329</td>\n",
       "      <td>-2.487230</td>\n",
       "      <td>2.144342</td>\n",
       "      <td>-0.733770</td>\n",
       "    </tr>\n",
       "    <tr>\n",
       "      <th>...</th>\n",
       "      <td>...</td>\n",
       "      <td>...</td>\n",
       "      <td>...</td>\n",
       "      <td>...</td>\n",
       "      <td>...</td>\n",
       "      <td>...</td>\n",
       "      <td>...</td>\n",
       "      <td>...</td>\n",
       "    </tr>\n",
       "    <tr>\n",
       "      <th>9995</th>\n",
       "      <td>-2.399057</td>\n",
       "      <td>2.275687</td>\n",
       "      <td>-0.345061</td>\n",
       "      <td>0.629983</td>\n",
       "      <td>3.397411</td>\n",
       "      <td>-1.502344</td>\n",
       "      <td>3.098817</td>\n",
       "      <td>0.583324</td>\n",
       "    </tr>\n",
       "    <tr>\n",
       "      <th>9996</th>\n",
       "      <td>-1.487918</td>\n",
       "      <td>2.273560</td>\n",
       "      <td>-1.152804</td>\n",
       "      <td>2.062795</td>\n",
       "      <td>-0.571202</td>\n",
       "      <td>-5.398310</td>\n",
       "      <td>-2.426969</td>\n",
       "      <td>2.455303</td>\n",
       "    </tr>\n",
       "    <tr>\n",
       "      <th>9997</th>\n",
       "      <td>0.425978</td>\n",
       "      <td>4.298317</td>\n",
       "      <td>0.536100</td>\n",
       "      <td>-1.266725</td>\n",
       "      <td>1.370092</td>\n",
       "      <td>-3.187447</td>\n",
       "      <td>1.306534</td>\n",
       "      <td>-0.254036</td>\n",
       "    </tr>\n",
       "    <tr>\n",
       "      <th>9998</th>\n",
       "      <td>-1.182084</td>\n",
       "      <td>0.628536</td>\n",
       "      <td>0.848320</td>\n",
       "      <td>4.571744</td>\n",
       "      <td>3.057226</td>\n",
       "      <td>-4.759462</td>\n",
       "      <td>-2.439117</td>\n",
       "      <td>3.182019</td>\n",
       "    </tr>\n",
       "    <tr>\n",
       "      <th>9999</th>\n",
       "      <td>0.411147</td>\n",
       "      <td>-0.670132</td>\n",
       "      <td>-0.696646</td>\n",
       "      <td>3.194648</td>\n",
       "      <td>5.665534</td>\n",
       "      <td>0.768006</td>\n",
       "      <td>3.040554</td>\n",
       "      <td>3.290867</td>\n",
       "    </tr>\n",
       "  </tbody>\n",
       "</table>\n",
       "<p>9942 rows × 8 columns</p>\n",
       "</div>"
      ],
      "text/plain": [
       "             0         1         2         3         4         5         6  \\\n",
       "0    -0.475055  1.455643 -1.571111 -2.233576 -2.272510 -0.478333  0.012107   \n",
       "1     1.578351  4.611229 -0.527495 -1.868875  2.921311 -1.783386  3.431662   \n",
       "2    -2.677604  0.619333 -0.260753  1.768409  1.511900 -1.552257  1.182059   \n",
       "3     0.379412  0.879235 -0.787970 -0.457057  3.388700  1.787840  4.294263   \n",
       "4    -3.645689  3.371521 -2.061152 -1.314058 -0.169329 -2.487230  2.144342   \n",
       "...        ...       ...       ...       ...       ...       ...       ...   \n",
       "9995 -2.399057  2.275687 -0.345061  0.629983  3.397411 -1.502344  3.098817   \n",
       "9996 -1.487918  2.273560 -1.152804  2.062795 -0.571202 -5.398310 -2.426969   \n",
       "9997  0.425978  4.298317  0.536100 -1.266725  1.370092 -3.187447  1.306534   \n",
       "9998 -1.182084  0.628536  0.848320  4.571744  3.057226 -4.759462 -2.439117   \n",
       "9999  0.411147 -0.670132 -0.696646  3.194648  5.665534  0.768006  3.040554   \n",
       "\n",
       "             7  \n",
       "0    -1.616344  \n",
       "1    -0.178611  \n",
       "2     1.810524  \n",
       "3     0.427934  \n",
       "4    -0.733770  \n",
       "...        ...  \n",
       "9995  0.583324  \n",
       "9996  2.455303  \n",
       "9997 -0.254036  \n",
       "9998  3.182019  \n",
       "9999  3.290867  \n",
       "\n",
       "[9942 rows x 8 columns]"
      ]
     },
     "metadata": {},
     "output_type": "display_data"
    },
    {
     "data": {
      "text/html": [
       "<div>\n",
       "<style scoped>\n",
       "    .dataframe tbody tr th:only-of-type {\n",
       "        vertical-align: middle;\n",
       "    }\n",
       "\n",
       "    .dataframe tbody tr th {\n",
       "        vertical-align: top;\n",
       "    }\n",
       "\n",
       "    .dataframe thead th {\n",
       "        text-align: right;\n",
       "    }\n",
       "</style>\n",
       "<table border=\"1\" class=\"dataframe\">\n",
       "  <thead>\n",
       "    <tr style=\"text-align: right;\">\n",
       "      <th></th>\n",
       "      <th>index</th>\n",
       "      <th>0</th>\n",
       "      <th>1</th>\n",
       "      <th>2</th>\n",
       "      <th>3</th>\n",
       "      <th>4</th>\n",
       "      <th>5</th>\n",
       "      <th>6</th>\n",
       "      <th>7</th>\n",
       "    </tr>\n",
       "  </thead>\n",
       "  <tbody>\n",
       "    <tr>\n",
       "      <th>0</th>\n",
       "      <td>0</td>\n",
       "      <td>-0.475055</td>\n",
       "      <td>1.455643</td>\n",
       "      <td>-1.571111</td>\n",
       "      <td>-2.233576</td>\n",
       "      <td>-2.272510</td>\n",
       "      <td>-0.478333</td>\n",
       "      <td>0.012107</td>\n",
       "      <td>-1.616344</td>\n",
       "    </tr>\n",
       "    <tr>\n",
       "      <th>1</th>\n",
       "      <td>1</td>\n",
       "      <td>1.578351</td>\n",
       "      <td>4.611229</td>\n",
       "      <td>-0.527495</td>\n",
       "      <td>-1.868875</td>\n",
       "      <td>2.921311</td>\n",
       "      <td>-1.783386</td>\n",
       "      <td>3.431662</td>\n",
       "      <td>-0.178611</td>\n",
       "    </tr>\n",
       "    <tr>\n",
       "      <th>2</th>\n",
       "      <td>2</td>\n",
       "      <td>-2.677604</td>\n",
       "      <td>0.619333</td>\n",
       "      <td>-0.260753</td>\n",
       "      <td>1.768409</td>\n",
       "      <td>1.511900</td>\n",
       "      <td>-1.552257</td>\n",
       "      <td>1.182059</td>\n",
       "      <td>1.810524</td>\n",
       "    </tr>\n",
       "    <tr>\n",
       "      <th>3</th>\n",
       "      <td>3</td>\n",
       "      <td>0.379412</td>\n",
       "      <td>0.879235</td>\n",
       "      <td>-0.787970</td>\n",
       "      <td>-0.457057</td>\n",
       "      <td>3.388700</td>\n",
       "      <td>1.787840</td>\n",
       "      <td>4.294263</td>\n",
       "      <td>0.427934</td>\n",
       "    </tr>\n",
       "    <tr>\n",
       "      <th>4</th>\n",
       "      <td>4</td>\n",
       "      <td>-3.645689</td>\n",
       "      <td>3.371521</td>\n",
       "      <td>-2.061152</td>\n",
       "      <td>-1.314058</td>\n",
       "      <td>-0.169329</td>\n",
       "      <td>-2.487230</td>\n",
       "      <td>2.144342</td>\n",
       "      <td>-0.733770</td>\n",
       "    </tr>\n",
       "    <tr>\n",
       "      <th>...</th>\n",
       "      <td>...</td>\n",
       "      <td>...</td>\n",
       "      <td>...</td>\n",
       "      <td>...</td>\n",
       "      <td>...</td>\n",
       "      <td>...</td>\n",
       "      <td>...</td>\n",
       "      <td>...</td>\n",
       "      <td>...</td>\n",
       "    </tr>\n",
       "    <tr>\n",
       "      <th>9937</th>\n",
       "      <td>9995</td>\n",
       "      <td>-2.399057</td>\n",
       "      <td>2.275687</td>\n",
       "      <td>-0.345061</td>\n",
       "      <td>0.629983</td>\n",
       "      <td>3.397411</td>\n",
       "      <td>-1.502344</td>\n",
       "      <td>3.098817</td>\n",
       "      <td>0.583324</td>\n",
       "    </tr>\n",
       "    <tr>\n",
       "      <th>9938</th>\n",
       "      <td>9996</td>\n",
       "      <td>-1.487918</td>\n",
       "      <td>2.273560</td>\n",
       "      <td>-1.152804</td>\n",
       "      <td>2.062795</td>\n",
       "      <td>-0.571202</td>\n",
       "      <td>-5.398310</td>\n",
       "      <td>-2.426969</td>\n",
       "      <td>2.455303</td>\n",
       "    </tr>\n",
       "    <tr>\n",
       "      <th>9939</th>\n",
       "      <td>9997</td>\n",
       "      <td>0.425978</td>\n",
       "      <td>4.298317</td>\n",
       "      <td>0.536100</td>\n",
       "      <td>-1.266725</td>\n",
       "      <td>1.370092</td>\n",
       "      <td>-3.187447</td>\n",
       "      <td>1.306534</td>\n",
       "      <td>-0.254036</td>\n",
       "    </tr>\n",
       "    <tr>\n",
       "      <th>9940</th>\n",
       "      <td>9998</td>\n",
       "      <td>-1.182084</td>\n",
       "      <td>0.628536</td>\n",
       "      <td>0.848320</td>\n",
       "      <td>4.571744</td>\n",
       "      <td>3.057226</td>\n",
       "      <td>-4.759462</td>\n",
       "      <td>-2.439117</td>\n",
       "      <td>3.182019</td>\n",
       "    </tr>\n",
       "    <tr>\n",
       "      <th>9941</th>\n",
       "      <td>9999</td>\n",
       "      <td>0.411147</td>\n",
       "      <td>-0.670132</td>\n",
       "      <td>-0.696646</td>\n",
       "      <td>3.194648</td>\n",
       "      <td>5.665534</td>\n",
       "      <td>0.768006</td>\n",
       "      <td>3.040554</td>\n",
       "      <td>3.290867</td>\n",
       "    </tr>\n",
       "  </tbody>\n",
       "</table>\n",
       "<p>9942 rows × 9 columns</p>\n",
       "</div>"
      ],
      "text/plain": [
       "      index         0         1         2         3         4         5  \\\n",
       "0         0 -0.475055  1.455643 -1.571111 -2.233576 -2.272510 -0.478333   \n",
       "1         1  1.578351  4.611229 -0.527495 -1.868875  2.921311 -1.783386   \n",
       "2         2 -2.677604  0.619333 -0.260753  1.768409  1.511900 -1.552257   \n",
       "3         3  0.379412  0.879235 -0.787970 -0.457057  3.388700  1.787840   \n",
       "4         4 -3.645689  3.371521 -2.061152 -1.314058 -0.169329 -2.487230   \n",
       "...     ...       ...       ...       ...       ...       ...       ...   \n",
       "9937   9995 -2.399057  2.275687 -0.345061  0.629983  3.397411 -1.502344   \n",
       "9938   9996 -1.487918  2.273560 -1.152804  2.062795 -0.571202 -5.398310   \n",
       "9939   9997  0.425978  4.298317  0.536100 -1.266725  1.370092 -3.187447   \n",
       "9940   9998 -1.182084  0.628536  0.848320  4.571744  3.057226 -4.759462   \n",
       "9941   9999  0.411147 -0.670132 -0.696646  3.194648  5.665534  0.768006   \n",
       "\n",
       "             6         7  \n",
       "0     0.012107 -1.616344  \n",
       "1     3.431662 -0.178611  \n",
       "2     1.182059  1.810524  \n",
       "3     4.294263  0.427934  \n",
       "4     2.144342 -0.733770  \n",
       "...        ...       ...  \n",
       "9937  3.098817  0.583324  \n",
       "9938 -2.426969  2.455303  \n",
       "9939  1.306534 -0.254036  \n",
       "9940 -2.439117  3.182019  \n",
       "9941  3.040554  3.290867  \n",
       "\n",
       "[9942 rows x 9 columns]"
      ]
     },
     "metadata": {},
     "output_type": "display_data"
    }
   ],
   "source": [
    "new_df = df.drop(outliers, axis = 0)\n",
    "display(new_df)\n",
    "\n",
    "new_df.reset_index(inplace = True, drop = False)\n",
    "display(new_df)"
   ]
  },
  {
   "cell_type": "code",
   "execution_count": 36,
   "metadata": {},
   "outputs": [
    {
     "name": "stdout",
     "output_type": "stream",
     "text": [
      "y:                [0 1 0 ... 1 1 0]\n",
      "length of y:      10000\n",
      "y_new:            [0 1 0 ... 1 1 0]\n",
      "length of y_new:  9942\n"
     ]
    }
   ],
   "source": [
    "print(\"y:               \", y)\n",
    "print(\"length of y:     \", len(y))\n",
    "y_new = y[list(new_df[\"index\"])]\n",
    "print(\"y_new:           \",y_new)\n",
    "print(\"length of y_new: \",len(y_new))"
   ]
  },
  {
   "cell_type": "code",
   "execution_count": 37,
   "metadata": {},
   "outputs": [
    {
     "name": "stdout",
     "output_type": "stream",
     "text": [
      "[3.24178249 2.96744599 1.35433609 4.49321534 3.03700325 3.82320701\n",
      " 3.97029842 3.21208699]\n",
      "[1.41738769 3.89036626 2.15965607 ... 1.82963243 4.58476661 3.07787512]\n"
     ]
    }
   ],
   "source": [
    "#IQR ? \n",
    "print(stats.iqr(df, axis = 0))\n",
    "print(stats.iqr(df, axis = 1))"
   ]
  },
  {
   "cell_type": "code",
   "execution_count": 38,
   "metadata": {},
   "outputs": [],
   "source": [
    "from sklearn.model_selection import train_test_split\n",
    "x_train, x_test, y_train, y_test = train_test_split(new_df, y_new,\n",
    "                         test_size=0.3, train_size=0.7, random_state=42)"
   ]
  },
  {
   "cell_type": "code",
   "execution_count": 39,
   "metadata": {},
   "outputs": [
    {
     "name": "stdout",
     "output_type": "stream",
     "text": [
      "shape of x_train:    (6959, 9)\n",
      "shape of x_test:     (2983, 9)\n",
      "shape of y_train:    (6959,)\n",
      "shape of y_test:     (2983,)\n"
     ]
    }
   ],
   "source": [
    "print(\"shape of x_train:   \", x_train.shape)\n",
    "print(\"shape of x_test:    \", x_test.shape)\n",
    "print(\"shape of y_train:   \", y_train.shape)\n",
    "print(\"shape of y_test:    \", y_test.shape)"
   ]
  },
  {
   "cell_type": "code",
   "execution_count": 40,
   "metadata": {},
   "outputs": [
    {
     "name": "stdout",
     "output_type": "stream",
     "text": [
      "Accuracy of train:    0.9637879005604254\n",
      "Accuracy of test :    0.9654710023466309\n"
     ]
    },
    {
     "name": "stderr",
     "output_type": "stream",
     "text": [
      "c:\\Users\\yakup\\AppData\\Local\\Programs\\Python\\Python310\\lib\\site-packages\\sklearn\\utils\\validation.py:1858: FutureWarning: Feature names only support names that are all strings. Got feature names with dtypes: ['int', 'str']. An error will be raised in 1.2.\n",
      "  warnings.warn(\n",
      "c:\\Users\\yakup\\AppData\\Local\\Programs\\Python\\Python310\\lib\\site-packages\\sklearn\\utils\\validation.py:1858: FutureWarning: Feature names only support names that are all strings. Got feature names with dtypes: ['int', 'str']. An error will be raised in 1.2.\n",
      "  warnings.warn(\n",
      "c:\\Users\\yakup\\AppData\\Local\\Programs\\Python\\Python310\\lib\\site-packages\\sklearn\\utils\\validation.py:1858: FutureWarning: Feature names only support names that are all strings. Got feature names with dtypes: ['int', 'str']. An error will be raised in 1.2.\n",
      "  warnings.warn(\n"
     ]
    }
   ],
   "source": [
    "from sklearn.tree import DecisionTreeClassifier\n",
    "\n",
    "clf = DecisionTreeClassifier(max_depth=4, random_state=42)\n",
    "model_clf = clf.fit(x_train, y_train)\n",
    "print(\"Accuracy of train:   \", clf.score(x_train, y_train))\n",
    "print(\"Accuracy of test :   \", clf.score(x_test, y_test))"
   ]
  },
  {
   "cell_type": "code",
   "execution_count": 41,
   "metadata": {},
   "outputs": [
    {
     "name": "stderr",
     "output_type": "stream",
     "text": [
      "c:\\Users\\yakup\\AppData\\Local\\Programs\\Python\\Python310\\lib\\site-packages\\sklearn\\utils\\validation.py:1858: FutureWarning: Feature names only support names that are all strings. Got feature names with dtypes: ['int', 'str']. An error will be raised in 1.2.\n",
      "  warnings.warn(\n"
     ]
    },
    {
     "name": "stdout",
     "output_type": "stream",
     "text": [
      "Logistic Regression model coeffiecnt:     [[ 1.16881203e-04  9.37106978e-01 -4.76218499e-01  5.69901342e-02\n",
      "   2.65970132e-01  7.75117068e-01  2.16302652e-01 -7.88036365e-01\n",
      "  -6.30281611e-01]]\n"
     ]
    },
    {
     "name": "stderr",
     "output_type": "stream",
     "text": [
      "c:\\Users\\yakup\\AppData\\Local\\Programs\\Python\\Python310\\lib\\site-packages\\sklearn\\linear_model\\_logistic.py:444: ConvergenceWarning: lbfgs failed to converge (status=1):\n",
      "STOP: TOTAL NO. of ITERATIONS REACHED LIMIT.\n",
      "\n",
      "Increase the number of iterations (max_iter) or scale the data as shown in:\n",
      "    https://scikit-learn.org/stable/modules/preprocessing.html\n",
      "Please also refer to the documentation for alternative solver options:\n",
      "    https://scikit-learn.org/stable/modules/linear_model.html#logistic-regression\n",
      "  n_iter_i = _check_optimize_result(\n"
     ]
    }
   ],
   "source": [
    "from sklearn.linear_model import LogisticRegression\n",
    "\n",
    "model_logistic = LogisticRegression()\n",
    "model_logistic.fit(x_train, y_train)\n",
    "\n",
    "print(\"Logistic Regression model coeffiecnt:    \", model_logistic.coef_)"
   ]
  },
  {
   "cell_type": "code",
   "execution_count": 42,
   "metadata": {},
   "outputs": [
    {
     "name": "stdout",
     "output_type": "stream",
     "text": [
      "Regression model coeffient:   [-7.82008085e-07  1.07459219e-01 -4.83346699e-02  4.14652879e-03\n",
      "  2.50752577e-02  7.95745622e-02  2.39530123e-02 -8.25618980e-02\n",
      " -6.42112121e-02]\n"
     ]
    },
    {
     "name": "stderr",
     "output_type": "stream",
     "text": [
      "c:\\Users\\yakup\\AppData\\Local\\Programs\\Python\\Python310\\lib\\site-packages\\sklearn\\utils\\validation.py:1858: FutureWarning: Feature names only support names that are all strings. Got feature names with dtypes: ['int', 'str']. An error will be raised in 1.2.\n",
      "  warnings.warn(\n"
     ]
    }
   ],
   "source": [
    "from sklearn.linear_model import LinearRegression\n",
    "\n",
    "model_linear = LinearRegression()\n",
    "model_linear.fit(x_train, y_train)\n",
    "\n",
    "print(\"Regression model coeffient:  \", model_linear.coef_)"
   ]
  },
  {
   "cell_type": "code",
   "execution_count": 43,
   "metadata": {},
   "outputs": [
    {
     "name": "stdout",
     "output_type": "stream",
     "text": [
      "Ridge model coeffient:  [-7.82251048e-07  1.07315132e-01 -4.83407137e-02  4.13881294e-03\n",
      "  2.50476095e-02  7.94942511e-02  2.40002664e-02 -8.24512485e-02\n",
      " -6.41701050e-02]\n"
     ]
    },
    {
     "name": "stderr",
     "output_type": "stream",
     "text": [
      "c:\\Users\\yakup\\AppData\\Local\\Programs\\Python\\Python310\\lib\\site-packages\\sklearn\\utils\\validation.py:1858: FutureWarning: Feature names only support names that are all strings. Got feature names with dtypes: ['int', 'str']. An error will be raised in 1.2.\n",
      "  warnings.warn(\n"
     ]
    }
   ],
   "source": [
    "from sklearn.linear_model import Ridge\n",
    "\n",
    "model_ridge = Ridge(alpha = 20)\n",
    "model_ridge.fit(x_train, y_train)\n",
    "\n",
    "print(f\"Ridge model coeffient:  {model_ridge.coef_}\")"
   ]
  },
  {
   "cell_type": "code",
   "execution_count": 44,
   "metadata": {},
   "outputs": [
    {
     "name": "stdout",
     "output_type": "stream",
     "text": [
      "Lasso model coeffient:  [-1.95406954e-06  4.01218516e-03 -1.74641101e-02  0.00000000e+00\n",
      "  0.00000000e+00  8.71895158e-03  5.17325622e-02 -0.00000000e+00\n",
      " -0.00000000e+00]\n"
     ]
    },
    {
     "name": "stderr",
     "output_type": "stream",
     "text": [
      "c:\\Users\\yakup\\AppData\\Local\\Programs\\Python\\Python310\\lib\\site-packages\\sklearn\\utils\\validation.py:1858: FutureWarning: Feature names only support names that are all strings. Got feature names with dtypes: ['int', 'str']. An error will be raised in 1.2.\n",
      "  warnings.warn(\n"
     ]
    }
   ],
   "source": [
    "from pyexpat import model\n",
    "from sklearn.linear_model import Lasso\n",
    "\n",
    "model_lasso = Lasso(alpha = 0.3)\n",
    "model_lasso.fit(x_train, y_train)\n",
    "\n",
    "print(f\"Lasso model coeffient:  {model_lasso.coef_}\")"
   ]
  },
  {
   "cell_type": "code",
   "execution_count": 45,
   "metadata": {},
   "outputs": [
    {
     "name": "stdout",
     "output_type": "stream",
     "text": [
      "Simple Linear Model\n",
      "Simple Train:  0.6565046860196104\n",
      "Simple Test:  0.6680067506426524 \n",
      "\n",
      "\n",
      "Ridge\n",
      "Ridge Train:  0.6565043077215204\n",
      "Ridge Test:  0.6680072346341834 \n",
      "\n",
      "Lasso\n",
      "Lasso Train:  0.30676450059756366\n",
      "Lasso Test:  0.31367331588378145 \n",
      "\n"
     ]
    },
    {
     "name": "stderr",
     "output_type": "stream",
     "text": [
      "c:\\Users\\yakup\\AppData\\Local\\Programs\\Python\\Python310\\lib\\site-packages\\sklearn\\utils\\validation.py:1858: FutureWarning: Feature names only support names that are all strings. Got feature names with dtypes: ['int', 'str']. An error will be raised in 1.2.\n",
      "  warnings.warn(\n",
      "c:\\Users\\yakup\\AppData\\Local\\Programs\\Python\\Python310\\lib\\site-packages\\sklearn\\utils\\validation.py:1858: FutureWarning: Feature names only support names that are all strings. Got feature names with dtypes: ['int', 'str']. An error will be raised in 1.2.\n",
      "  warnings.warn(\n",
      "c:\\Users\\yakup\\AppData\\Local\\Programs\\Python\\Python310\\lib\\site-packages\\sklearn\\utils\\validation.py:1858: FutureWarning: Feature names only support names that are all strings. Got feature names with dtypes: ['int', 'str']. An error will be raised in 1.2.\n",
      "  warnings.warn(\n",
      "c:\\Users\\yakup\\AppData\\Local\\Programs\\Python\\Python310\\lib\\site-packages\\sklearn\\utils\\validation.py:1858: FutureWarning: Feature names only support names that are all strings. Got feature names with dtypes: ['int', 'str']. An error will be raised in 1.2.\n",
      "  warnings.warn(\n",
      "c:\\Users\\yakup\\AppData\\Local\\Programs\\Python\\Python310\\lib\\site-packages\\sklearn\\utils\\validation.py:1858: FutureWarning: Feature names only support names that are all strings. Got feature names with dtypes: ['int', 'str']. An error will be raised in 1.2.\n",
      "  warnings.warn(\n",
      "c:\\Users\\yakup\\AppData\\Local\\Programs\\Python\\Python310\\lib\\site-packages\\sklearn\\utils\\validation.py:1858: FutureWarning: Feature names only support names that are all strings. Got feature names with dtypes: ['int', 'str']. An error will be raised in 1.2.\n",
      "  warnings.warn(\n"
     ]
    }
   ],
   "source": [
    "##score comparison\n",
    "\n",
    "#linear model\n",
    "print(\"Simple Linear Model\")\n",
    "print(\"Simple Train: \", model_linear.score(x_train,y_train))\n",
    "print(\"Simple Test: \" , model_linear.score(x_test, y_test), \"\\n\\n\")\n",
    "#print(f\"Simple Test: , {model_linear.score(x_test,y_test)} \\n\")\n",
    "\n",
    "#Ridge\n",
    "print(\"Ridge\")\n",
    "print(\"Ridge Train: \", model_ridge.score(x_train,y_train))\n",
    "print(\"Ridge Test: \" , model_ridge.score(x_test, y_test), \"\\n\")\n",
    "\n",
    "#Lasso\n",
    "print(\"Lasso\")\n",
    "print(\"Lasso Train: \", model_lasso.score(x_train,y_train))\n",
    "print(\"Lasso Test: \" , model_lasso.score(x_test, y_test), \"\\n\")"
   ]
  },
  {
   "cell_type": "code",
   "execution_count": 46,
   "metadata": {},
   "outputs": [],
   "source": [
    "#model_logistic\n",
    "#model_linear\n",
    "#model_lasso\n",
    "#model_ridge\n",
    "#model_clf"
   ]
  },
  {
   "cell_type": "code",
   "execution_count": 47,
   "metadata": {},
   "outputs": [
    {
     "name": "stderr",
     "output_type": "stream",
     "text": [
      "c:\\Users\\yakup\\AppData\\Local\\Programs\\Python\\Python310\\lib\\site-packages\\sklearn\\utils\\validation.py:1858: FutureWarning: Feature names only support names that are all strings. Got feature names with dtypes: ['int', 'str']. An error will be raised in 1.2.\n",
      "  warnings.warn(\n"
     ]
    },
    {
     "data": {
      "text/plain": [
       "array([0, 0, 1, ..., 0, 1, 1])"
      ]
     },
     "execution_count": 47,
     "metadata": {},
     "output_type": "execute_result"
    }
   ],
   "source": [
    "y_predicted_logistic = model_logistic.predict(x_test)\n",
    "y_predicted_logistic"
   ]
  },
  {
   "cell_type": "code",
   "execution_count": 48,
   "metadata": {},
   "outputs": [
    {
     "name": "stdout",
     "output_type": "stream",
     "text": [
      "(2983,)\n",
      "(2983, 9)\n",
      "(2983,)\n"
     ]
    },
    {
     "name": "stderr",
     "output_type": "stream",
     "text": [
      "c:\\Users\\yakup\\AppData\\Local\\Programs\\Python\\Python310\\lib\\site-packages\\sklearn\\utils\\validation.py:1858: FutureWarning: Feature names only support names that are all strings. Got feature names with dtypes: ['int', 'str']. An error will be raised in 1.2.\n",
      "  warnings.warn(\n"
     ]
    },
    {
     "data": {
      "text/plain": [
       "array([0.23160694, 0.23323092, 0.7439358 , ..., 0.29457574, 1.01916815,\n",
       "       0.76573015])"
      ]
     },
     "execution_count": 48,
     "metadata": {},
     "output_type": "execute_result"
    }
   ],
   "source": [
    "y_predicted_linear = model_linear.predict(x_test)\n",
    "print(y_predicted_linear.shape)\n",
    "print(x_test.shape)\n",
    "print(y_test.shape)\n",
    "\n",
    "y_predicted_linear"
   ]
  },
  {
   "cell_type": "code",
   "execution_count": 49,
   "metadata": {},
   "outputs": [
    {
     "name": "stderr",
     "output_type": "stream",
     "text": [
      "c:\\Users\\yakup\\AppData\\Local\\Programs\\Python\\Python310\\lib\\site-packages\\sklearn\\utils\\validation.py:1858: FutureWarning: Feature names only support names that are all strings. Got feature names with dtypes: ['int', 'str']. An error will be raised in 1.2.\n",
      "  warnings.warn(\n"
     ]
    },
    {
     "data": {
      "text/plain": [
       "array([0.5423221 , 0.34563768, 0.68731927, ..., 0.32136259, 0.66495956,\n",
       "       0.58407989])"
      ]
     },
     "execution_count": 49,
     "metadata": {},
     "output_type": "execute_result"
    }
   ],
   "source": [
    "y_predicted_lasso = model_lasso.predict(x_test)\n",
    "y_predicted_lasso"
   ]
  },
  {
   "cell_type": "code",
   "execution_count": 50,
   "metadata": {},
   "outputs": [
    {
     "name": "stderr",
     "output_type": "stream",
     "text": [
      "c:\\Users\\yakup\\AppData\\Local\\Programs\\Python\\Python310\\lib\\site-packages\\sklearn\\utils\\validation.py:1858: FutureWarning: Feature names only support names that are all strings. Got feature names with dtypes: ['int', 'str']. An error will be raised in 1.2.\n",
      "  warnings.warn(\n"
     ]
    },
    {
     "data": {
      "text/plain": [
       "array([0.23203443, 0.23331004, 0.74389188, ..., 0.29457455, 1.01888642,\n",
       "       0.76563238])"
      ]
     },
     "execution_count": 50,
     "metadata": {},
     "output_type": "execute_result"
    }
   ],
   "source": [
    "y_predicted_ridge = model_ridge.predict(x_test)\n",
    "y_predicted_ridge"
   ]
  },
  {
   "cell_type": "code",
   "execution_count": 51,
   "metadata": {},
   "outputs": [],
   "source": [
    "from sklearn import metrics"
   ]
  },
  {
   "cell_type": "code",
   "execution_count": 52,
   "metadata": {},
   "outputs": [
    {
     "name": "stdout",
     "output_type": "stream",
     "text": [
      "[[1435   92]\n",
      " [ 137 1319]]\n",
      "<class 'numpy.ndarray'>\n"
     ]
    }
   ],
   "source": [
    "matrix_confusion = metrics.confusion_matrix(y_test, y_predicted_logistic)\n",
    "print(matrix_confusion)\n",
    "print(type(matrix_confusion))"
   ]
  },
  {
   "cell_type": "markdown",
   "metadata": {},
   "source": [
    "![](https://miro.medium.com/max/566/1%2Aq2ozl-R0bxWXMwWmkERdsQ.png)"
   ]
  },
  {
   "cell_type": "code",
   "execution_count": 53,
   "metadata": {},
   "outputs": [
    {
     "name": "stdout",
     "output_type": "stream",
     "text": [
      "[[1319  137]\n",
      " [  92 1435]]\n",
      "<class 'numpy.ndarray'>\n"
     ]
    }
   ],
   "source": [
    "matrix_confusion = metrics.confusion_matrix(y_test, y_predicted_logistic, labels=[1,0])\n",
    "print(matrix_confusion)\n",
    "print(type(matrix_confusion))"
   ]
  },
  {
   "cell_type": "markdown",
   "metadata": {},
   "source": [
    "![](https://miro.medium.com/max/580/1%2AaKJlLtDbjM1jORLgMgHfNA.png)"
   ]
  },
  {
   "cell_type": "code",
   "execution_count": 54,
   "metadata": {},
   "outputs": [
    {
     "name": "stdout",
     "output_type": "stream",
     "text": [
      "1319 137 \n",
      " 92 1435\n"
     ]
    }
   ],
   "source": [
    "tp, fn, fp, tn = metrics.confusion_matrix(y_test, y_predicted_logistic, labels = [1,0]).reshape(-1)\n",
    "print(tp, fn, \"\\n\", fp, tn)"
   ]
  },
  {
   "cell_type": "code",
   "execution_count": 55,
   "metadata": {},
   "outputs": [
    {
     "data": {
      "image/png": "[encoded data removed]",
      "text/plain": [
       "<Figure size 640x480 with 2 Axes>"
      ]
     },
     "metadata": {},
     "output_type": "display_data"
    }
   ],
   "source": [
    "confusion_display = metrics.ConfusionMatrixDisplay(confusion_matrix = matrix_confusion, display_labels=[True, False])\n",
    "confusion_display.plot()\n",
    "plt.show()"
   ]
  },
  {
   "cell_type": "code",
   "execution_count": 56,
   "metadata": {},
   "outputs": [
    {
     "name": "stdout",
     "output_type": "stream",
     "text": [
      "Classification Report:   \n",
      "               precision    recall  f1-score   support\n",
      "\n",
      "        True       0.93      0.91      0.92      1456\n",
      "       False       0.91      0.94      0.93      1527\n",
      "\n",
      "    accuracy                           0.92      2983\n",
      "   macro avg       0.92      0.92      0.92      2983\n",
      "weighted avg       0.92      0.92      0.92      2983\n",
      "\n"
     ]
    }
   ],
   "source": [
    "report = metrics.classification_report(y_test, y_predicted_logistic, labels = [True,False])\n",
    "print(\"Classification Report:   \\n\", report)\n",
    "#accuracy(doğruluk)   -> (tp + tn)/(tp+ fp + tn + fn)\n",
    "#precision(kesinlik)  -> tp / (tp + fp)\n",
    "#recall(duyarlılık)   -> tp / (tp + fn)     \n",
    "#f1-score             -> 2 * ((precision * recall) / (precision + recall))          -> (harmonic mean of precision and recall)\n",
    "#support              -> summation of false values and summation of true values "
   ]
  }
 ],
 "metadata": {
  "kernelspec": {
   "display_name": "Python 3.10.7 64-bit",
   "language": "python",
   "name": "python3"
  },
  "language_info": {
   "codemirror_mode": {
    "name": "ipython",
    "version": 3
   },
   "file_extension": ".py",
   "mimetype": "text/x-python",
   "name": "python",
   "nbconvert_exporter": "python",
   "pygments_lexer": "ipython3",
   "version": "3.10.7"
  },
  "orig_nbformat": 4,
  "vscode": {
   "interpreter": {
    "hash": "64780b7434bf401c241bd3e18e1f67333411c25a974d33483d5dcab927c426ac"
   }
  }
 },
 "nbformat": 4,
 "nbformat_minor": 2
}
