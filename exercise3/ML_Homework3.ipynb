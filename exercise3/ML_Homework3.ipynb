{
  "cells": [
    {
      "cell_type": "markdown",
      "metadata": {
        "id": "LeSxH2p71hE_"
      },
      "source": [
        "## Homework 3\n",
        "\n",
        "* Generate dataset using `make_classification` function in the sklearn.datasets class. Generate 10000 samples with 8 features (X) with one label (y). Also, use following parameters    \n",
        "    * `n_informative` = 5\n",
        "    *  `class_sep` = 2\n",
        "    * `random_state` = 42\n",
        "* Explore and analyse raw data.\n",
        "* Do preprocessing for classification.\n",
        "* Split your dataset into train and test test (0.7 for train and 0.3 for test).\n",
        "* Try Decision Tree and XGBoost Algorithm with different hyperparameters. (Using GridSearchCV is a plus)\n",
        "* Evaluate your result on both train and test set. Analyse if there is any underfitting or overfitting problem. Make your comments."
      ]
    },
    {
      "cell_type": "code",
      "execution_count": null,
      "metadata": {
        "id": "e4vcrjaL1hFK"
      },
      "outputs": [],
      "source": [
        "# Import necessary libraries"
      ]
    },
    {
      "cell_type": "code",
      "execution_count": null,
      "metadata": {
        "id": "CC3DSbYZ1hFL"
      },
      "outputs": [],
      "source": [
        "# Generate dataset using make_classification function in the sklearn. \n",
        "# Convert it into pandas dataframe."
      ]
    },
    {
      "cell_type": "code",
      "execution_count": null,
      "metadata": {
        "id": "33bwR0FZ1hFL"
      },
      "outputs": [],
      "source": [
        "# Check duplicate values and missing data."
      ]
    },
    {
      "cell_type": "code",
      "execution_count": null,
      "metadata": {
        "id": "i7pgkDqx1hFM"
      },
      "outputs": [],
      "source": [
        "# Visualize data for each feature (pairplot,distplot)."
      ]
    },
    {
      "cell_type": "code",
      "execution_count": null,
      "metadata": {
        "id": "IZnN7ISP1hFM"
      },
      "outputs": [],
      "source": [
        "# Draw correlation matrix."
      ]
    },
    {
      "cell_type": "code",
      "execution_count": null,
      "metadata": {
        "id": "jirBAqpP1hFM"
      },
      "outputs": [],
      "source": [
        "# Handle outliers (you can use IsolationForest, Z-score, IQR)"
      ]
    },
    {
      "cell_type": "code",
      "execution_count": null,
      "metadata": {
        "id": "OWxHleiK1hFM"
      },
      "outputs": [],
      "source": [
        "# Split dataset into train and test set"
      ]
    },
    {
      "cell_type": "code",
      "execution_count": null,
      "metadata": {
        "id": "phwFv2mX1hFN"
      },
      "outputs": [],
      "source": [
        "# Import Decision Tree, define different hyperparamters and tune the algorithm."
      ]
    },
    {
      "cell_type": "code",
      "execution_count": null,
      "metadata": {
        "id": "XMoW2J-s1hFN"
      },
      "outputs": [],
      "source": [
        "# Visualize feature importances."
      ]
    },
    {
      "cell_type": "code",
      "execution_count": null,
      "metadata": {
        "id": "1ml8mv431hFN"
      },
      "outputs": [],
      "source": [
        "# Create confusion matrix and calculate accuracy, recall, precision and f1 score."
      ]
    },
    {
      "cell_type": "code",
      "execution_count": null,
      "metadata": {
        "id": "uPoKe_641hFN"
      },
      "outputs": [],
      "source": [
        "# Import XGBoostClassifier, define different hyperparamters and tune the algorithm."
      ]
    },
    {
      "cell_type": "code",
      "execution_count": null,
      "metadata": {
        "id": "Jn89xQic1hFO"
      },
      "outputs": [],
      "source": [
        "# Visualize feature importances."
      ]
    },
    {
      "cell_type": "code",
      "execution_count": null,
      "metadata": {
        "id": "3aqlPtJP1hFO"
      },
      "outputs": [],
      "source": [
        "# Create confusion matrix and calculate accuracy, recall, precision and f1 score."
      ]
    },
    {
      "cell_type": "code",
      "execution_count": null,
      "metadata": {
        "id": "sKq6RZL51hFO"
      },
      "outputs": [],
      "source": [
        "# Evaluate your result and select best performing algorithm for our case."
      ]
    }
  ],
  "metadata": {
    "colab": {
      "name": "ML_Homework3.ipynb",
      "provenance": []
    },
    "kernelspec": {
      "display_name": "Python 3.10.7 64-bit",
      "language": "python",
      "name": "python3"
    },
    "language_info": {
      "codemirror_mode": {
        "name": "ipython",
        "version": 3
      },
      "file_extension": ".py",
      "mimetype": "text/x-python",
      "name": "python",
      "nbconvert_exporter": "python",
      "pygments_lexer": "ipython3",
      "version": "3.10.7"
    },
    "vscode": {
      "interpreter": {
        "hash": "64780b7434bf401c241bd3e18e1f67333411c25a974d33483d5dcab927c426ac"
      }
    }
  },
  "nbformat": 4,
  "nbformat_minor": 0
}
